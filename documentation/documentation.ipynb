{
  "nbformat": 4,
  "nbformat_minor": 0,
  "metadata": {
    "colab": {
      "provenance": [],
      "machine_shape": "hm",
      "gpuType": "T4"
    },
    "kernelspec": {
      "name": "python3",
      "display_name": "Python 3"
    },
    "language_info": {
      "name": "python"
    },
    "accelerator": "GPU",
    "widgets": {
      "application/vnd.jupyter.widget-state+json": {
        "5adc2984cba84fb7b007cdbde5de6df1": {
          "model_module": "@jupyter-widgets/controls",
          "model_name": "HBoxModel",
          "model_module_version": "1.5.0",
          "state": {
            "_dom_classes": [],
            "_model_module": "@jupyter-widgets/controls",
            "_model_module_version": "1.5.0",
            "_model_name": "HBoxModel",
            "_view_count": null,
            "_view_module": "@jupyter-widgets/controls",
            "_view_module_version": "1.5.0",
            "_view_name": "HBoxView",
            "box_style": "",
            "children": [
              "IPY_MODEL_9044736ea8c34338bc11884025a87105",
              "IPY_MODEL_eb33647d80bb4f3e9eaeb0391a2b11df",
              "IPY_MODEL_0b666cf2fc9c42138d6e4d495245607b"
            ],
            "layout": "IPY_MODEL_c8bbe8d7a33442b6955f5ec877a63380"
          }
        },
        "9044736ea8c34338bc11884025a87105": {
          "model_module": "@jupyter-widgets/controls",
          "model_name": "HTMLModel",
          "model_module_version": "1.5.0",
          "state": {
            "_dom_classes": [],
            "_model_module": "@jupyter-widgets/controls",
            "_model_module_version": "1.5.0",
            "_model_name": "HTMLModel",
            "_view_count": null,
            "_view_module": "@jupyter-widgets/controls",
            "_view_module_version": "1.5.0",
            "_view_name": "HTMLView",
            "description": "",
            "description_tooltip": null,
            "layout": "IPY_MODEL_a64f089a32c04f8a98ba117c088a9630",
            "placeholder": "​",
            "style": "IPY_MODEL_1531920e87fb46d193d17197fb5add00",
            "value": "README.md: 100%"
          }
        },
        "eb33647d80bb4f3e9eaeb0391a2b11df": {
          "model_module": "@jupyter-widgets/controls",
          "model_name": "FloatProgressModel",
          "model_module_version": "1.5.0",
          "state": {
            "_dom_classes": [],
            "_model_module": "@jupyter-widgets/controls",
            "_model_module_version": "1.5.0",
            "_model_name": "FloatProgressModel",
            "_view_count": null,
            "_view_module": "@jupyter-widgets/controls",
            "_view_module_version": "1.5.0",
            "_view_name": "ProgressView",
            "bar_style": "success",
            "description": "",
            "description_tooltip": null,
            "layout": "IPY_MODEL_98ebb03c58cd490bba29f91923e41393",
            "max": 5024,
            "min": 0,
            "orientation": "horizontal",
            "style": "IPY_MODEL_3d574b75e4e640f58d0e9d31c05a27e6",
            "value": 5024
          }
        },
        "0b666cf2fc9c42138d6e4d495245607b": {
          "model_module": "@jupyter-widgets/controls",
          "model_name": "HTMLModel",
          "model_module_version": "1.5.0",
          "state": {
            "_dom_classes": [],
            "_model_module": "@jupyter-widgets/controls",
            "_model_module_version": "1.5.0",
            "_model_name": "HTMLModel",
            "_view_count": null,
            "_view_module": "@jupyter-widgets/controls",
            "_view_module_version": "1.5.0",
            "_view_name": "HTMLView",
            "description": "",
            "description_tooltip": null,
            "layout": "IPY_MODEL_c704fb8c6a3e4aee82cd26eda002e391",
            "placeholder": "​",
            "style": "IPY_MODEL_1da4c68e2ad7420f922a550547c2a6f3",
            "value": " 5.02k/5.02k [00:00&lt;00:00, 533kB/s]"
          }
        },
        "c8bbe8d7a33442b6955f5ec877a63380": {
          "model_module": "@jupyter-widgets/base",
          "model_name": "LayoutModel",
          "model_module_version": "1.2.0",
          "state": {
            "_model_module": "@jupyter-widgets/base",
            "_model_module_version": "1.2.0",
            "_model_name": "LayoutModel",
            "_view_count": null,
            "_view_module": "@jupyter-widgets/base",
            "_view_module_version": "1.2.0",
            "_view_name": "LayoutView",
            "align_content": null,
            "align_items": null,
            "align_self": null,
            "border": null,
            "bottom": null,
            "display": null,
            "flex": null,
            "flex_flow": null,
            "grid_area": null,
            "grid_auto_columns": null,
            "grid_auto_flow": null,
            "grid_auto_rows": null,
            "grid_column": null,
            "grid_gap": null,
            "grid_row": null,
            "grid_template_areas": null,
            "grid_template_columns": null,
            "grid_template_rows": null,
            "height": null,
            "justify_content": null,
            "justify_items": null,
            "left": null,
            "margin": null,
            "max_height": null,
            "max_width": null,
            "min_height": null,
            "min_width": null,
            "object_fit": null,
            "object_position": null,
            "order": null,
            "overflow": null,
            "overflow_x": null,
            "overflow_y": null,
            "padding": null,
            "right": null,
            "top": null,
            "visibility": null,
            "width": null
          }
        },
        "a64f089a32c04f8a98ba117c088a9630": {
          "model_module": "@jupyter-widgets/base",
          "model_name": "LayoutModel",
          "model_module_version": "1.2.0",
          "state": {
            "_model_module": "@jupyter-widgets/base",
            "_model_module_version": "1.2.0",
            "_model_name": "LayoutModel",
            "_view_count": null,
            "_view_module": "@jupyter-widgets/base",
            "_view_module_version": "1.2.0",
            "_view_name": "LayoutView",
            "align_content": null,
            "align_items": null,
            "align_self": null,
            "border": null,
            "bottom": null,
            "display": null,
            "flex": null,
            "flex_flow": null,
            "grid_area": null,
            "grid_auto_columns": null,
            "grid_auto_flow": null,
            "grid_auto_rows": null,
            "grid_column": null,
            "grid_gap": null,
            "grid_row": null,
            "grid_template_areas": null,
            "grid_template_columns": null,
            "grid_template_rows": null,
            "height": null,
            "justify_content": null,
            "justify_items": null,
            "left": null,
            "margin": null,
            "max_height": null,
            "max_width": null,
            "min_height": null,
            "min_width": null,
            "object_fit": null,
            "object_position": null,
            "order": null,
            "overflow": null,
            "overflow_x": null,
            "overflow_y": null,
            "padding": null,
            "right": null,
            "top": null,
            "visibility": null,
            "width": null
          }
        },
        "1531920e87fb46d193d17197fb5add00": {
          "model_module": "@jupyter-widgets/controls",
          "model_name": "DescriptionStyleModel",
          "model_module_version": "1.5.0",
          "state": {
            "_model_module": "@jupyter-widgets/controls",
            "_model_module_version": "1.5.0",
            "_model_name": "DescriptionStyleModel",
            "_view_count": null,
            "_view_module": "@jupyter-widgets/base",
            "_view_module_version": "1.2.0",
            "_view_name": "StyleView",
            "description_width": ""
          }
        },
        "98ebb03c58cd490bba29f91923e41393": {
          "model_module": "@jupyter-widgets/base",
          "model_name": "LayoutModel",
          "model_module_version": "1.2.0",
          "state": {
            "_model_module": "@jupyter-widgets/base",
            "_model_module_version": "1.2.0",
            "_model_name": "LayoutModel",
            "_view_count": null,
            "_view_module": "@jupyter-widgets/base",
            "_view_module_version": "1.2.0",
            "_view_name": "LayoutView",
            "align_content": null,
            "align_items": null,
            "align_self": null,
            "border": null,
            "bottom": null,
            "display": null,
            "flex": null,
            "flex_flow": null,
            "grid_area": null,
            "grid_auto_columns": null,
            "grid_auto_flow": null,
            "grid_auto_rows": null,
            "grid_column": null,
            "grid_gap": null,
            "grid_row": null,
            "grid_template_areas": null,
            "grid_template_columns": null,
            "grid_template_rows": null,
            "height": null,
            "justify_content": null,
            "justify_items": null,
            "left": null,
            "margin": null,
            "max_height": null,
            "max_width": null,
            "min_height": null,
            "min_width": null,
            "object_fit": null,
            "object_position": null,
            "order": null,
            "overflow": null,
            "overflow_x": null,
            "overflow_y": null,
            "padding": null,
            "right": null,
            "top": null,
            "visibility": null,
            "width": null
          }
        },
        "3d574b75e4e640f58d0e9d31c05a27e6": {
          "model_module": "@jupyter-widgets/controls",
          "model_name": "ProgressStyleModel",
          "model_module_version": "1.5.0",
          "state": {
            "_model_module": "@jupyter-widgets/controls",
            "_model_module_version": "1.5.0",
            "_model_name": "ProgressStyleModel",
            "_view_count": null,
            "_view_module": "@jupyter-widgets/base",
            "_view_module_version": "1.2.0",
            "_view_name": "StyleView",
            "bar_color": null,
            "description_width": ""
          }
        },
        "c704fb8c6a3e4aee82cd26eda002e391": {
          "model_module": "@jupyter-widgets/base",
          "model_name": "LayoutModel",
          "model_module_version": "1.2.0",
          "state": {
            "_model_module": "@jupyter-widgets/base",
            "_model_module_version": "1.2.0",
            "_model_name": "LayoutModel",
            "_view_count": null,
            "_view_module": "@jupyter-widgets/base",
            "_view_module_version": "1.2.0",
            "_view_name": "LayoutView",
            "align_content": null,
            "align_items": null,
            "align_self": null,
            "border": null,
            "bottom": null,
            "display": null,
            "flex": null,
            "flex_flow": null,
            "grid_area": null,
            "grid_auto_columns": null,
            "grid_auto_flow": null,
            "grid_auto_rows": null,
            "grid_column": null,
            "grid_gap": null,
            "grid_row": null,
            "grid_template_areas": null,
            "grid_template_columns": null,
            "grid_template_rows": null,
            "height": null,
            "justify_content": null,
            "justify_items": null,
            "left": null,
            "margin": null,
            "max_height": null,
            "max_width": null,
            "min_height": null,
            "min_width": null,
            "object_fit": null,
            "object_position": null,
            "order": null,
            "overflow": null,
            "overflow_x": null,
            "overflow_y": null,
            "padding": null,
            "right": null,
            "top": null,
            "visibility": null,
            "width": null
          }
        },
        "1da4c68e2ad7420f922a550547c2a6f3": {
          "model_module": "@jupyter-widgets/controls",
          "model_name": "DescriptionStyleModel",
          "model_module_version": "1.5.0",
          "state": {
            "_model_module": "@jupyter-widgets/controls",
            "_model_module_version": "1.5.0",
            "_model_name": "DescriptionStyleModel",
            "_view_count": null,
            "_view_module": "@jupyter-widgets/base",
            "_view_module_version": "1.2.0",
            "_view_name": "StyleView",
            "description_width": ""
          }
        },
        "bda61ab6ff1d4cde9d2c6432ce42affc": {
          "model_module": "@jupyter-widgets/controls",
          "model_name": "HBoxModel",
          "model_module_version": "1.5.0",
          "state": {
            "_dom_classes": [],
            "_model_module": "@jupyter-widgets/controls",
            "_model_module_version": "1.5.0",
            "_model_name": "HBoxModel",
            "_view_count": null,
            "_view_module": "@jupyter-widgets/controls",
            "_view_module_version": "1.5.0",
            "_view_name": "HBoxView",
            "box_style": "",
            "children": [
              "IPY_MODEL_8ff4c9e66f6e499f8b4cb0c0b26a4ebb",
              "IPY_MODEL_1c878615c5c54ef789ac5c39566aded7",
              "IPY_MODEL_0f2fe3c998924ccbae97dab89d90bef5"
            ],
            "layout": "IPY_MODEL_eeab8528d6bc4f318033e94da17d11ed"
          }
        },
        "8ff4c9e66f6e499f8b4cb0c0b26a4ebb": {
          "model_module": "@jupyter-widgets/controls",
          "model_name": "HTMLModel",
          "model_module_version": "1.5.0",
          "state": {
            "_dom_classes": [],
            "_model_module": "@jupyter-widgets/controls",
            "_model_module_version": "1.5.0",
            "_model_name": "HTMLModel",
            "_view_count": null,
            "_view_module": "@jupyter-widgets/controls",
            "_view_module_version": "1.5.0",
            "_view_name": "HTMLView",
            "description": "",
            "description_tooltip": null,
            "layout": "IPY_MODEL_5ace155132564deeab3b27b22d981931",
            "placeholder": "​",
            "style": "IPY_MODEL_650d7370659646f0a21e01c18e0d9396",
            "value": "train-00000-of-00001.parquet: 100%"
          }
        },
        "1c878615c5c54ef789ac5c39566aded7": {
          "model_module": "@jupyter-widgets/controls",
          "model_name": "FloatProgressModel",
          "model_module_version": "1.5.0",
          "state": {
            "_dom_classes": [],
            "_model_module": "@jupyter-widgets/controls",
            "_model_module_version": "1.5.0",
            "_model_name": "FloatProgressModel",
            "_view_count": null,
            "_view_module": "@jupyter-widgets/controls",
            "_view_module_version": "1.5.0",
            "_view_name": "ProgressView",
            "bar_style": "success",
            "description": "",
            "description_tooltip": null,
            "layout": "IPY_MODEL_fd4a2f298d1347d99eaa768af89db574",
            "max": 19315877,
            "min": 0,
            "orientation": "horizontal",
            "style": "IPY_MODEL_9d09ae1e69404da6a27edb8d926cc237",
            "value": 19315877
          }
        },
        "0f2fe3c998924ccbae97dab89d90bef5": {
          "model_module": "@jupyter-widgets/controls",
          "model_name": "HTMLModel",
          "model_module_version": "1.5.0",
          "state": {
            "_dom_classes": [],
            "_model_module": "@jupyter-widgets/controls",
            "_model_module_version": "1.5.0",
            "_model_name": "HTMLModel",
            "_view_count": null,
            "_view_module": "@jupyter-widgets/controls",
            "_view_module_version": "1.5.0",
            "_view_name": "HTMLView",
            "description": "",
            "description_tooltip": null,
            "layout": "IPY_MODEL_9119a6ad92964b66afdaf166cb172f70",
            "placeholder": "​",
            "style": "IPY_MODEL_c35bf7d51dd848fd99ad6d20f5fd79e6",
            "value": " 19.3M/19.3M [00:00&lt;00:00, 79.9MB/s]"
          }
        },
        "eeab8528d6bc4f318033e94da17d11ed": {
          "model_module": "@jupyter-widgets/base",
          "model_name": "LayoutModel",
          "model_module_version": "1.2.0",
          "state": {
            "_model_module": "@jupyter-widgets/base",
            "_model_module_version": "1.2.0",
            "_model_name": "LayoutModel",
            "_view_count": null,
            "_view_module": "@jupyter-widgets/base",
            "_view_module_version": "1.2.0",
            "_view_name": "LayoutView",
            "align_content": null,
            "align_items": null,
            "align_self": null,
            "border": null,
            "bottom": null,
            "display": null,
            "flex": null,
            "flex_flow": null,
            "grid_area": null,
            "grid_auto_columns": null,
            "grid_auto_flow": null,
            "grid_auto_rows": null,
            "grid_column": null,
            "grid_gap": null,
            "grid_row": null,
            "grid_template_areas": null,
            "grid_template_columns": null,
            "grid_template_rows": null,
            "height": null,
            "justify_content": null,
            "justify_items": null,
            "left": null,
            "margin": null,
            "max_height": null,
            "max_width": null,
            "min_height": null,
            "min_width": null,
            "object_fit": null,
            "object_position": null,
            "order": null,
            "overflow": null,
            "overflow_x": null,
            "overflow_y": null,
            "padding": null,
            "right": null,
            "top": null,
            "visibility": null,
            "width": null
          }
        },
        "5ace155132564deeab3b27b22d981931": {
          "model_module": "@jupyter-widgets/base",
          "model_name": "LayoutModel",
          "model_module_version": "1.2.0",
          "state": {
            "_model_module": "@jupyter-widgets/base",
            "_model_module_version": "1.2.0",
            "_model_name": "LayoutModel",
            "_view_count": null,
            "_view_module": "@jupyter-widgets/base",
            "_view_module_version": "1.2.0",
            "_view_name": "LayoutView",
            "align_content": null,
            "align_items": null,
            "align_self": null,
            "border": null,
            "bottom": null,
            "display": null,
            "flex": null,
            "flex_flow": null,
            "grid_area": null,
            "grid_auto_columns": null,
            "grid_auto_flow": null,
            "grid_auto_rows": null,
            "grid_column": null,
            "grid_gap": null,
            "grid_row": null,
            "grid_template_areas": null,
            "grid_template_columns": null,
            "grid_template_rows": null,
            "height": null,
            "justify_content": null,
            "justify_items": null,
            "left": null,
            "margin": null,
            "max_height": null,
            "max_width": null,
            "min_height": null,
            "min_width": null,
            "object_fit": null,
            "object_position": null,
            "order": null,
            "overflow": null,
            "overflow_x": null,
            "overflow_y": null,
            "padding": null,
            "right": null,
            "top": null,
            "visibility": null,
            "width": null
          }
        },
        "650d7370659646f0a21e01c18e0d9396": {
          "model_module": "@jupyter-widgets/controls",
          "model_name": "DescriptionStyleModel",
          "model_module_version": "1.5.0",
          "state": {
            "_model_module": "@jupyter-widgets/controls",
            "_model_module_version": "1.5.0",
            "_model_name": "DescriptionStyleModel",
            "_view_count": null,
            "_view_module": "@jupyter-widgets/base",
            "_view_module_version": "1.2.0",
            "_view_name": "StyleView",
            "description_width": ""
          }
        },
        "fd4a2f298d1347d99eaa768af89db574": {
          "model_module": "@jupyter-widgets/base",
          "model_name": "LayoutModel",
          "model_module_version": "1.2.0",
          "state": {
            "_model_module": "@jupyter-widgets/base",
            "_model_module_version": "1.2.0",
            "_model_name": "LayoutModel",
            "_view_count": null,
            "_view_module": "@jupyter-widgets/base",
            "_view_module_version": "1.2.0",
            "_view_name": "LayoutView",
            "align_content": null,
            "align_items": null,
            "align_self": null,
            "border": null,
            "bottom": null,
            "display": null,
            "flex": null,
            "flex_flow": null,
            "grid_area": null,
            "grid_auto_columns": null,
            "grid_auto_flow": null,
            "grid_auto_rows": null,
            "grid_column": null,
            "grid_gap": null,
            "grid_row": null,
            "grid_template_areas": null,
            "grid_template_columns": null,
            "grid_template_rows": null,
            "height": null,
            "justify_content": null,
            "justify_items": null,
            "left": null,
            "margin": null,
            "max_height": null,
            "max_width": null,
            "min_height": null,
            "min_width": null,
            "object_fit": null,
            "object_position": null,
            "order": null,
            "overflow": null,
            "overflow_x": null,
            "overflow_y": null,
            "padding": null,
            "right": null,
            "top": null,
            "visibility": null,
            "width": null
          }
        },
        "9d09ae1e69404da6a27edb8d926cc237": {
          "model_module": "@jupyter-widgets/controls",
          "model_name": "ProgressStyleModel",
          "model_module_version": "1.5.0",
          "state": {
            "_model_module": "@jupyter-widgets/controls",
            "_model_module_version": "1.5.0",
            "_model_name": "ProgressStyleModel",
            "_view_count": null,
            "_view_module": "@jupyter-widgets/base",
            "_view_module_version": "1.2.0",
            "_view_name": "StyleView",
            "bar_color": null,
            "description_width": ""
          }
        },
        "9119a6ad92964b66afdaf166cb172f70": {
          "model_module": "@jupyter-widgets/base",
          "model_name": "LayoutModel",
          "model_module_version": "1.2.0",
          "state": {
            "_model_module": "@jupyter-widgets/base",
            "_model_module_version": "1.2.0",
            "_model_name": "LayoutModel",
            "_view_count": null,
            "_view_module": "@jupyter-widgets/base",
            "_view_module_version": "1.2.0",
            "_view_name": "LayoutView",
            "align_content": null,
            "align_items": null,
            "align_self": null,
            "border": null,
            "bottom": null,
            "display": null,
            "flex": null,
            "flex_flow": null,
            "grid_area": null,
            "grid_auto_columns": null,
            "grid_auto_flow": null,
            "grid_auto_rows": null,
            "grid_column": null,
            "grid_gap": null,
            "grid_row": null,
            "grid_template_areas": null,
            "grid_template_columns": null,
            "grid_template_rows": null,
            "height": null,
            "justify_content": null,
            "justify_items": null,
            "left": null,
            "margin": null,
            "max_height": null,
            "max_width": null,
            "min_height": null,
            "min_width": null,
            "object_fit": null,
            "object_position": null,
            "order": null,
            "overflow": null,
            "overflow_x": null,
            "overflow_y": null,
            "padding": null,
            "right": null,
            "top": null,
            "visibility": null,
            "width": null
          }
        },
        "c35bf7d51dd848fd99ad6d20f5fd79e6": {
          "model_module": "@jupyter-widgets/controls",
          "model_name": "DescriptionStyleModel",
          "model_module_version": "1.5.0",
          "state": {
            "_model_module": "@jupyter-widgets/controls",
            "_model_module_version": "1.5.0",
            "_model_name": "DescriptionStyleModel",
            "_view_count": null,
            "_view_module": "@jupyter-widgets/base",
            "_view_module_version": "1.2.0",
            "_view_name": "StyleView",
            "description_width": ""
          }
        },
        "63a1fdd6989c438080c13545325ba3ef": {
          "model_module": "@jupyter-widgets/controls",
          "model_name": "HBoxModel",
          "model_module_version": "1.5.0",
          "state": {
            "_dom_classes": [],
            "_model_module": "@jupyter-widgets/controls",
            "_model_module_version": "1.5.0",
            "_model_name": "HBoxModel",
            "_view_count": null,
            "_view_module": "@jupyter-widgets/controls",
            "_view_module_version": "1.5.0",
            "_view_name": "HBoxView",
            "box_style": "",
            "children": [
              "IPY_MODEL_f12841ea7efd49d3bb78811be6ecec8b",
              "IPY_MODEL_f4b4ee7c09bb4053a1224dbd16c9949d",
              "IPY_MODEL_7ad915248dff444082bdd01033835c10"
            ],
            "layout": "IPY_MODEL_d5b38b563fa94f7cb4d817a476cc3485"
          }
        },
        "f12841ea7efd49d3bb78811be6ecec8b": {
          "model_module": "@jupyter-widgets/controls",
          "model_name": "HTMLModel",
          "model_module_version": "1.5.0",
          "state": {
            "_dom_classes": [],
            "_model_module": "@jupyter-widgets/controls",
            "_model_module_version": "1.5.0",
            "_model_name": "HTMLModel",
            "_view_count": null,
            "_view_module": "@jupyter-widgets/controls",
            "_view_module_version": "1.5.0",
            "_view_name": "HTMLView",
            "description": "",
            "description_tooltip": null,
            "layout": "IPY_MODEL_5b21ae165cd54acc9cb4d847001f1af6",
            "placeholder": "​",
            "style": "IPY_MODEL_3f0900253e7748d9876fd7c1b8a64ce7",
            "value": "Generating train split: 100%"
          }
        },
        "f4b4ee7c09bb4053a1224dbd16c9949d": {
          "model_module": "@jupyter-widgets/controls",
          "model_name": "FloatProgressModel",
          "model_module_version": "1.5.0",
          "state": {
            "_dom_classes": [],
            "_model_module": "@jupyter-widgets/controls",
            "_model_module_version": "1.5.0",
            "_model_name": "FloatProgressModel",
            "_view_count": null,
            "_view_module": "@jupyter-widgets/controls",
            "_view_module_version": "1.5.0",
            "_view_name": "ProgressView",
            "bar_style": "success",
            "description": "",
            "description_tooltip": null,
            "layout": "IPY_MODEL_5204a70a07a44b2595c94d8e27007038",
            "max": 12304,
            "min": 0,
            "orientation": "horizontal",
            "style": "IPY_MODEL_d63c7853c8e7491ebd8c722b90e6d0e2",
            "value": 12304
          }
        },
        "7ad915248dff444082bdd01033835c10": {
          "model_module": "@jupyter-widgets/controls",
          "model_name": "HTMLModel",
          "model_module_version": "1.5.0",
          "state": {
            "_dom_classes": [],
            "_model_module": "@jupyter-widgets/controls",
            "_model_module_version": "1.5.0",
            "_model_name": "HTMLModel",
            "_view_count": null,
            "_view_module": "@jupyter-widgets/controls",
            "_view_module_version": "1.5.0",
            "_view_name": "HTMLView",
            "description": "",
            "description_tooltip": null,
            "layout": "IPY_MODEL_ad3f2e1d19344abd9b857d8eae9b3b70",
            "placeholder": "​",
            "style": "IPY_MODEL_b2b9e7f44a78415aa1331b02739f6c4e",
            "value": " 12304/12304 [00:00&lt;00:00, 74024.27 examples/s]"
          }
        },
        "d5b38b563fa94f7cb4d817a476cc3485": {
          "model_module": "@jupyter-widgets/base",
          "model_name": "LayoutModel",
          "model_module_version": "1.2.0",
          "state": {
            "_model_module": "@jupyter-widgets/base",
            "_model_module_version": "1.2.0",
            "_model_name": "LayoutModel",
            "_view_count": null,
            "_view_module": "@jupyter-widgets/base",
            "_view_module_version": "1.2.0",
            "_view_name": "LayoutView",
            "align_content": null,
            "align_items": null,
            "align_self": null,
            "border": null,
            "bottom": null,
            "display": null,
            "flex": null,
            "flex_flow": null,
            "grid_area": null,
            "grid_auto_columns": null,
            "grid_auto_flow": null,
            "grid_auto_rows": null,
            "grid_column": null,
            "grid_gap": null,
            "grid_row": null,
            "grid_template_areas": null,
            "grid_template_columns": null,
            "grid_template_rows": null,
            "height": null,
            "justify_content": null,
            "justify_items": null,
            "left": null,
            "margin": null,
            "max_height": null,
            "max_width": null,
            "min_height": null,
            "min_width": null,
            "object_fit": null,
            "object_position": null,
            "order": null,
            "overflow": null,
            "overflow_x": null,
            "overflow_y": null,
            "padding": null,
            "right": null,
            "top": null,
            "visibility": null,
            "width": null
          }
        },
        "5b21ae165cd54acc9cb4d847001f1af6": {
          "model_module": "@jupyter-widgets/base",
          "model_name": "LayoutModel",
          "model_module_version": "1.2.0",
          "state": {
            "_model_module": "@jupyter-widgets/base",
            "_model_module_version": "1.2.0",
            "_model_name": "LayoutModel",
            "_view_count": null,
            "_view_module": "@jupyter-widgets/base",
            "_view_module_version": "1.2.0",
            "_view_name": "LayoutView",
            "align_content": null,
            "align_items": null,
            "align_self": null,
            "border": null,
            "bottom": null,
            "display": null,
            "flex": null,
            "flex_flow": null,
            "grid_area": null,
            "grid_auto_columns": null,
            "grid_auto_flow": null,
            "grid_auto_rows": null,
            "grid_column": null,
            "grid_gap": null,
            "grid_row": null,
            "grid_template_areas": null,
            "grid_template_columns": null,
            "grid_template_rows": null,
            "height": null,
            "justify_content": null,
            "justify_items": null,
            "left": null,
            "margin": null,
            "max_height": null,
            "max_width": null,
            "min_height": null,
            "min_width": null,
            "object_fit": null,
            "object_position": null,
            "order": null,
            "overflow": null,
            "overflow_x": null,
            "overflow_y": null,
            "padding": null,
            "right": null,
            "top": null,
            "visibility": null,
            "width": null
          }
        },
        "3f0900253e7748d9876fd7c1b8a64ce7": {
          "model_module": "@jupyter-widgets/controls",
          "model_name": "DescriptionStyleModel",
          "model_module_version": "1.5.0",
          "state": {
            "_model_module": "@jupyter-widgets/controls",
            "_model_module_version": "1.5.0",
            "_model_name": "DescriptionStyleModel",
            "_view_count": null,
            "_view_module": "@jupyter-widgets/base",
            "_view_module_version": "1.2.0",
            "_view_name": "StyleView",
            "description_width": ""
          }
        },
        "5204a70a07a44b2595c94d8e27007038": {
          "model_module": "@jupyter-widgets/base",
          "model_name": "LayoutModel",
          "model_module_version": "1.2.0",
          "state": {
            "_model_module": "@jupyter-widgets/base",
            "_model_module_version": "1.2.0",
            "_model_name": "LayoutModel",
            "_view_count": null,
            "_view_module": "@jupyter-widgets/base",
            "_view_module_version": "1.2.0",
            "_view_name": "LayoutView",
            "align_content": null,
            "align_items": null,
            "align_self": null,
            "border": null,
            "bottom": null,
            "display": null,
            "flex": null,
            "flex_flow": null,
            "grid_area": null,
            "grid_auto_columns": null,
            "grid_auto_flow": null,
            "grid_auto_rows": null,
            "grid_column": null,
            "grid_gap": null,
            "grid_row": null,
            "grid_template_areas": null,
            "grid_template_columns": null,
            "grid_template_rows": null,
            "height": null,
            "justify_content": null,
            "justify_items": null,
            "left": null,
            "margin": null,
            "max_height": null,
            "max_width": null,
            "min_height": null,
            "min_width": null,
            "object_fit": null,
            "object_position": null,
            "order": null,
            "overflow": null,
            "overflow_x": null,
            "overflow_y": null,
            "padding": null,
            "right": null,
            "top": null,
            "visibility": null,
            "width": null
          }
        },
        "d63c7853c8e7491ebd8c722b90e6d0e2": {
          "model_module": "@jupyter-widgets/controls",
          "model_name": "ProgressStyleModel",
          "model_module_version": "1.5.0",
          "state": {
            "_model_module": "@jupyter-widgets/controls",
            "_model_module_version": "1.5.0",
            "_model_name": "ProgressStyleModel",
            "_view_count": null,
            "_view_module": "@jupyter-widgets/base",
            "_view_module_version": "1.2.0",
            "_view_name": "StyleView",
            "bar_color": null,
            "description_width": ""
          }
        },
        "ad3f2e1d19344abd9b857d8eae9b3b70": {
          "model_module": "@jupyter-widgets/base",
          "model_name": "LayoutModel",
          "model_module_version": "1.2.0",
          "state": {
            "_model_module": "@jupyter-widgets/base",
            "_model_module_version": "1.2.0",
            "_model_name": "LayoutModel",
            "_view_count": null,
            "_view_module": "@jupyter-widgets/base",
            "_view_module_version": "1.2.0",
            "_view_name": "LayoutView",
            "align_content": null,
            "align_items": null,
            "align_self": null,
            "border": null,
            "bottom": null,
            "display": null,
            "flex": null,
            "flex_flow": null,
            "grid_area": null,
            "grid_auto_columns": null,
            "grid_auto_flow": null,
            "grid_auto_rows": null,
            "grid_column": null,
            "grid_gap": null,
            "grid_row": null,
            "grid_template_areas": null,
            "grid_template_columns": null,
            "grid_template_rows": null,
            "height": null,
            "justify_content": null,
            "justify_items": null,
            "left": null,
            "margin": null,
            "max_height": null,
            "max_width": null,
            "min_height": null,
            "min_width": null,
            "object_fit": null,
            "object_position": null,
            "order": null,
            "overflow": null,
            "overflow_x": null,
            "overflow_y": null,
            "padding": null,
            "right": null,
            "top": null,
            "visibility": null,
            "width": null
          }
        },
        "b2b9e7f44a78415aa1331b02739f6c4e": {
          "model_module": "@jupyter-widgets/controls",
          "model_name": "DescriptionStyleModel",
          "model_module_version": "1.5.0",
          "state": {
            "_model_module": "@jupyter-widgets/controls",
            "_model_module_version": "1.5.0",
            "_model_name": "DescriptionStyleModel",
            "_view_count": null,
            "_view_module": "@jupyter-widgets/base",
            "_view_module_version": "1.2.0",
            "_view_name": "StyleView",
            "description_width": ""
          }
        }
      }
    }
  },
  "cells": [
    {
      "cell_type": "markdown",
      "source": [
        "# **Réseaux de neurones**\n",
        "\n",
        "Projet de Master 2 TAL de Soumia DAAS, Ashley RATIER et la contribution de Myriam DULOR"
      ],
      "metadata": {
        "id": "-_sEFMweh_LB"
      }
    },
    {
      "cell_type": "markdown",
      "source": [
        "## Objectif du projet\n"
      ],
      "metadata": {
        "id": "Hts45wDNX7XZ"
      }
    },
    {
      "cell_type": "markdown",
      "source": [
        "La génération de résumés automatique, de questions ou bien de réponses sont des sujets actuels. Notre projet a pour objectif de développer une interface web en python permettant de générer automatiquement des questions à partir d'un texte donné. L'objectif est de faciliter la création d'interrogations, contrôles ou examens pour les enseignants, dans la langue française."
      ],
      "metadata": {
        "id": "M-rGcKt6ZdEK"
      }
    },
    {
      "cell_type": "markdown",
      "source": [
        "## Description du système"
      ],
      "metadata": {
        "id": "El-v1sYtZESL"
      }
    },
    {
      "cell_type": "markdown",
      "source": [
        "\n",
        "\n",
        ">*Les architectures neuronales comme le modèle “Transformer” (Vaswani et al., 2017) permettent aujourd’hui d’obtenir de bonnes performances pour ces différents objectifs.*\n",
        "\n",
        "**Présentation du Dataset :**\n",
        "\n",
        "Le dataset [**CQuAE_synthetic**](https://https://huggingface.co/datasets/LsTam/CQuAE_synthetic) IA Extended est une extension du corpus original **CQuAE**  issu de la publication (Gerald et al., JEP/TALN/RECITAL 2024), enrichi par des questions générées automatiquement via GPT-4. Son objectif principal est d'élargir le volume de données d'entraînement pour les modèles spécialisés en question-réponse (QA) en français, en particulier dans le domaine éducatif.Chaque document dans le dataset est associé à quatre questions, chacune appartenant à une catégorie distincte, définie dans le cadre de CQuAE.\n",
        "Le dataset est conçu pour entraîner et évaluer des modèles de question-réponse destinés à des applications éducatives en français.\n",
        "\n",
        "Les questions générées sont classées en quatre catégories, en accord avec la typologie de CQuAE :\n",
        "\n",
        "`Factual` (Factuelle) 🏛\n",
        "\n",
        "Réponse : un fait ou une liste de faits (événement, personne, lieu, date…).\n",
        "Ex : Quand Jeanne d'Arc a-t-elle été brûlée sur le bûcher ?\n",
        "\n",
        "`Definition` (Définition) 📖\n",
        "\n",
        "Réponse : une définition d’un concept ou d’un mot issu du texte.\n",
        "Ex : Qu’est-ce qu’une monarchie absolue ?\n",
        "\n",
        "`Course `(Explication de cours) 🎓\n",
        "\n",
        "Réponse : une explication détaillée dépassant la simple description d’un fait.\n",
        "Ex : Pourquoi la Révolution française a-t-elle conduit à l’abolition de la monarchie ?\n",
        "\n",
        "`Synthesis` (Synthèse) 🔎\n",
        "\n",
        "Réponse : intègre plusieurs éléments du texte ou requiert une interprétation pour être formulée.\n",
        "Ex : En quoi les idées des Lumières ont-elles influencé la Révolution française ?\n",
        "\n",
        "**Structure du dataset  :**\n",
        "chaque entrée du dataset contient les champs suivants :\n",
        "\n",
        "* `text (string)` : Le texte de référence sur lequel les questions sont basées.\n",
        "\n",
        "* `qid (string/int) `: Identifiant unique de chaque question.\n",
        "\n",
        "* `course / definition / factual / synthesis (dict) `:\n",
        "Chaque type de question est stocké sous forme d’un dictionnaire contenant :\n",
        "\"question\" : la question générée.\n",
        "\"answer\" : la réponse associée.\n",
        "\n",
        "\n",
        "\n",
        "\n",
        "\n",
        "\n",
        "\n",
        "\n"
      ],
      "metadata": {
        "id": "Cjh1cuEHZdxK"
      }
    },
    {
      "cell_type": "code",
      "source": [
        "from datasets import load_dataset\n",
        "\n",
        "dataset = load_dataset(\"LsTam/CQuAE_synthetic\")[\"train\"]"
      ],
      "metadata": {
        "colab": {
          "base_uri": "https://localhost:8080/",
          "height": 242,
          "referenced_widgets": [
            "5adc2984cba84fb7b007cdbde5de6df1",
            "9044736ea8c34338bc11884025a87105",
            "eb33647d80bb4f3e9eaeb0391a2b11df",
            "0b666cf2fc9c42138d6e4d495245607b",
            "c8bbe8d7a33442b6955f5ec877a63380",
            "a64f089a32c04f8a98ba117c088a9630",
            "1531920e87fb46d193d17197fb5add00",
            "98ebb03c58cd490bba29f91923e41393",
            "3d574b75e4e640f58d0e9d31c05a27e6",
            "c704fb8c6a3e4aee82cd26eda002e391",
            "1da4c68e2ad7420f922a550547c2a6f3",
            "bda61ab6ff1d4cde9d2c6432ce42affc",
            "8ff4c9e66f6e499f8b4cb0c0b26a4ebb",
            "1c878615c5c54ef789ac5c39566aded7",
            "0f2fe3c998924ccbae97dab89d90bef5",
            "eeab8528d6bc4f318033e94da17d11ed",
            "5ace155132564deeab3b27b22d981931",
            "650d7370659646f0a21e01c18e0d9396",
            "fd4a2f298d1347d99eaa768af89db574",
            "9d09ae1e69404da6a27edb8d926cc237",
            "9119a6ad92964b66afdaf166cb172f70",
            "c35bf7d51dd848fd99ad6d20f5fd79e6",
            "63a1fdd6989c438080c13545325ba3ef",
            "f12841ea7efd49d3bb78811be6ecec8b",
            "f4b4ee7c09bb4053a1224dbd16c9949d",
            "7ad915248dff444082bdd01033835c10",
            "d5b38b563fa94f7cb4d817a476cc3485",
            "5b21ae165cd54acc9cb4d847001f1af6",
            "3f0900253e7748d9876fd7c1b8a64ce7",
            "5204a70a07a44b2595c94d8e27007038",
            "d63c7853c8e7491ebd8c722b90e6d0e2",
            "ad3f2e1d19344abd9b857d8eae9b3b70",
            "b2b9e7f44a78415aa1331b02739f6c4e"
          ]
        },
        "collapsed": true,
        "id": "7ojRmFc0XAH5",
        "outputId": "7c0d7301-68f1-42eb-dd21-a48dbe2bd9f5"
      },
      "execution_count": null,
      "outputs": [
        {
          "output_type": "stream",
          "name": "stderr",
          "text": [
            "/usr/local/lib/python3.11/dist-packages/huggingface_hub/utils/_auth.py:94: UserWarning: \n",
            "The secret `HF_TOKEN` does not exist in your Colab secrets.\n",
            "To authenticate with the Hugging Face Hub, create a token in your settings tab (https://huggingface.co/settings/tokens), set it as secret in your Google Colab and restart your session.\n",
            "You will be able to reuse this secret in all of your notebooks.\n",
            "Please note that authentication is recommended but still optional to access public models or datasets.\n",
            "  warnings.warn(\n"
          ]
        },
        {
          "output_type": "display_data",
          "data": {
            "text/plain": [
              "README.md:   0%|          | 0.00/5.02k [00:00<?, ?B/s]"
            ],
            "application/vnd.jupyter.widget-view+json": {
              "version_major": 2,
              "version_minor": 0,
              "model_id": "5adc2984cba84fb7b007cdbde5de6df1"
            }
          },
          "metadata": {}
        },
        {
          "output_type": "display_data",
          "data": {
            "text/plain": [
              "train-00000-of-00001.parquet:   0%|          | 0.00/19.3M [00:00<?, ?B/s]"
            ],
            "application/vnd.jupyter.widget-view+json": {
              "version_major": 2,
              "version_minor": 0,
              "model_id": "bda61ab6ff1d4cde9d2c6432ce42affc"
            }
          },
          "metadata": {}
        },
        {
          "output_type": "display_data",
          "data": {
            "text/plain": [
              "Generating train split:   0%|          | 0/12304 [00:00<?, ? examples/s]"
            ],
            "application/vnd.jupyter.widget-view+json": {
              "version_major": 2,
              "version_minor": 0,
              "model_id": "63a1fdd6989c438080c13545325ba3ef"
            }
          },
          "metadata": {}
        }
      ]
    },
    {
      "cell_type": "code",
      "source": [
        "# Calcul de la longueur moyenne des questions et réponses\n",
        "lengths = {q: (sum(len(x[q][\"question\"].split()) for x in dataset if x[q][\"question\"]) / sum(bool(x[q][\"question\"]) for x in dataset),\n",
        "               sum(len(x[q][\"answer\"].split()) for x in dataset if x[q][\"answer\"]) / sum(bool(x[q][\"answer\"]) for x in dataset))\n",
        "           for q in [\"factual\", \"definition\", \"course\", \"synthesis\"]}\n",
        "\n",
        "# Graphique avec labels bien lisibles\n",
        "plt.figure(figsize=(5, 3))\n",
        "plt.bar(lengths.keys(), [x[0] for x in lengths.values()], label=\"Questions\", color=\"blue\")\n",
        "plt.bar(lengths.keys(), [x[1] for x in lengths.values()], label=\"Réponses\", color=\"green\", alpha=0.6)\n",
        "plt.ylabel(\"Nombre de mots\")\n",
        "plt.title(\"Longueur moyenne des questions et réponses par type\")\n",
        "plt.xticks(rotation=45)  # Rotation des labels pour meilleure lisibilité\n",
        "plt.legend()\n",
        "plt.grid(axis=\"y\", linestyle=\"--\", alpha=0.7)  # Grille discrète\n",
        "plt.show()\n"
      ],
      "metadata": {
        "colab": {
          "base_uri": "https://localhost:8080/",
          "height": 356
        },
        "id": "PFAiIeKdX2wm",
        "outputId": "4895e9f5-bce6-49ca-d67d-04ff20e16b42"
      },
      "execution_count": null,
      "outputs": [
        {
          "output_type": "display_data",
          "data": {
            "text/plain": [
              "<Figure size 500x300 with 1 Axes>"
            ],
            "image/png": "[encoded data removed]"
          },
          "metadata": {}
        }
      ]
    },
    {
      "cell_type": "markdown",
      "source": [
        "**Pourquoi avoir utilisé BARThez ?**\n",
        "\n",
        "Pour ce projet de génération automatique de questions en français, nous avons choisi d'utiliser [**BARThez**](https://moussaKam/barthez), un modèle de type seq2seq (sequence-to-sequence) basé sur BART et pré-entraîné spécifiquement pour la langue française. Plusieurs raisons justifient ce choix:\n",
        "\n",
        "* un modèle Encoder-Decoder : analyse le texte d'entrée `(le paragraphe du cours)`et\n",
        "génère un texte en sortie `(une question cohérente basée sur le texte)`.\n",
        "\n",
        "**💡 Pourquoi ne pas utiliser mBART ?**\n",
        "\n",
        "Bien que **mBART** prenne en charge le français, il a été entraîné sur un corpus multilingue, ce qui réduit sa spécialisation pour une seule langue.\n",
        "\n",
        "\n",
        "**BARThez**, bien qu'entraîné sur des corpus français généraux, n’était pas directement spécialisé pour la tâche de génération de questions éducatives. Nous avons donc réalisé un fine-tuning sur le dataset **CQuAE_synthetic**  pour adapter **BARThez** à notre tâche spécifique.\n",
        "\n",
        "L'entraînement du modèle BARThez a été effectué sur Google Colab, une plateforme cloud qui permet d'exécuter du code Python avec des ressources GPU et TPU. Afin d'optimiser la performance et d'accélérer le fine-tuning, nous avons souscrit à un abonnement Google Colab Pro, ce qui nous a permis d'accéder à un GPU NVIDIA L4.\n",
        "\n",
        "L'implémentation de notre projet repose sur l'utilisation de **PyTorch** et de la bibliothèque **Transformers** de **Hugging Face** pour fine-tuner le modèle **BARThez** sur le dataset **CQuAE_synthetic** . Cette section détaille les étapes de l'installation, du prétraitement des données, de l'entraînement du modèle et de la génération automatique de questions.\n",
        "* Instalation des dépendances , bibliothèques (`transformers datasets torch accelerate sentencepiece huggingface_hub`, `AutoTokenizer, AutoModelForSeq2SeqLM, TrainingArguments, Trainer load_dataset `)"
      ],
      "metadata": {
        "id": "Zmkfb9gZZe2t"
      }
    },
    {
      "cell_type": "code",
      "source": [
        "!pip install transformers datasets torch accelerate sentencepiece huggingface_hub"
      ],
      "metadata": {
        "colab": {
          "base_uri": "https://localhost:8080/"
        },
        "collapsed": true,
        "id": "wPQz4DmeXPSj",
        "outputId": "46170b32-d483-4e03-d5d1-68c1c5e57d87"
      },
      "execution_count": null,
      "outputs": [
        {
          "output_type": "stream",
          "name": "stdout",
          "text": [
            "Requirement already satisfied: transformers in /usr/local/lib/python3.11/dist-packages (4.48.3)\n",
            "Collecting datasets\n",
            "  Downloading datasets-3.3.2-py3-none-any.whl.metadata (19 kB)\n",
            "Requirement already satisfied: torch in /usr/local/lib/python3.11/dist-packages (2.5.1+cu124)\n",
            "Requirement already satisfied: accelerate in /usr/local/lib/python3.11/dist-packages (1.3.0)\n",
            "Requirement already satisfied: sentencepiece in /usr/local/lib/python3.11/dist-packages (0.2.0)\n",
            "Requirement already satisfied: huggingface_hub in /usr/local/lib/python3.11/dist-packages (0.28.1)\n",
            "Requirement already satisfied: filelock in /usr/local/lib/python3.11/dist-packages (from transformers) (3.17.0)\n",
            "Requirement already satisfied: numpy>=1.17 in /usr/local/lib/python3.11/dist-packages (from transformers) (1.26.4)\n",
            "Requirement already satisfied: packaging>=20.0 in /usr/local/lib/python3.11/dist-packages (from transformers) (24.2)\n",
            "Requirement already satisfied: pyyaml>=5.1 in /usr/local/lib/python3.11/dist-packages (from transformers) (6.0.2)\n",
            "Requirement already satisfied: regex!=2019.12.17 in /usr/local/lib/python3.11/dist-packages (from transformers) (2024.11.6)\n",
            "Requirement already satisfied: requests in /usr/local/lib/python3.11/dist-packages (from transformers) (2.32.3)\n",
            "Requirement already satisfied: tokenizers<0.22,>=0.21 in /usr/local/lib/python3.11/dist-packages (from transformers) (0.21.0)\n",
            "Requirement already satisfied: safetensors>=0.4.1 in /usr/local/lib/python3.11/dist-packages (from transformers) (0.5.3)\n",
            "Requirement already satisfied: tqdm>=4.27 in /usr/local/lib/python3.11/dist-packages (from transformers) (4.67.1)\n",
            "Requirement already satisfied: pyarrow>=15.0.0 in /usr/local/lib/python3.11/dist-packages (from datasets) (18.1.0)\n",
            "Collecting dill<0.3.9,>=0.3.0 (from datasets)\n",
            "  Downloading dill-0.3.8-py3-none-any.whl.metadata (10 kB)\n",
            "Requirement already satisfied: pandas in /usr/local/lib/python3.11/dist-packages (from datasets) (2.2.2)\n",
            "Collecting xxhash (from datasets)\n",
            "  Downloading xxhash-3.5.0-cp311-cp311-manylinux_2_17_x86_64.manylinux2014_x86_64.whl.metadata (12 kB)\n",
            "Collecting multiprocess<0.70.17 (from datasets)\n",
            "  Downloading multiprocess-0.70.16-py311-none-any.whl.metadata (7.2 kB)\n",
            "Requirement already satisfied: fsspec<=2024.12.0,>=2023.1.0 in /usr/local/lib/python3.11/dist-packages (from fsspec[http]<=2024.12.0,>=2023.1.0->datasets) (2024.10.0)\n",
            "Requirement already satisfied: aiohttp in /usr/local/lib/python3.11/dist-packages (from datasets) (3.11.13)\n",
            "Requirement already satisfied: typing-extensions>=4.8.0 in /usr/local/lib/python3.11/dist-packages (from torch) (4.12.2)\n",
            "Requirement already satisfied: networkx in /usr/local/lib/python3.11/dist-packages (from torch) (3.4.2)\n",
            "Requirement already satisfied: jinja2 in /usr/local/lib/python3.11/dist-packages (from torch) (3.1.5)\n",
            "Collecting nvidia-cuda-nvrtc-cu12==12.4.127 (from torch)\n",
            "  Downloading nvidia_cuda_nvrtc_cu12-12.4.127-py3-none-manylinux2014_x86_64.whl.metadata (1.5 kB)\n",
            "Collecting nvidia-cuda-runtime-cu12==12.4.127 (from torch)\n",
            "  Downloading nvidia_cuda_runtime_cu12-12.4.127-py3-none-manylinux2014_x86_64.whl.metadata (1.5 kB)\n",
            "Collecting nvidia-cuda-cupti-cu12==12.4.127 (from torch)\n",
            "  Downloading nvidia_cuda_cupti_cu12-12.4.127-py3-none-manylinux2014_x86_64.whl.metadata (1.6 kB)\n",
            "Collecting nvidia-cudnn-cu12==9.1.0.70 (from torch)\n",
            "  Downloading nvidia_cudnn_cu12-9.1.0.70-py3-none-manylinux2014_x86_64.whl.metadata (1.6 kB)\n",
            "Collecting nvidia-cublas-cu12==12.4.5.8 (from torch)\n",
            "  Downloading nvidia_cublas_cu12-12.4.5.8-py3-none-manylinux2014_x86_64.whl.metadata (1.5 kB)\n",
            "Collecting nvidia-cufft-cu12==11.2.1.3 (from torch)\n",
            "  Downloading nvidia_cufft_cu12-11.2.1.3-py3-none-manylinux2014_x86_64.whl.metadata (1.5 kB)\n",
            "Collecting nvidia-curand-cu12==10.3.5.147 (from torch)\n",
            "  Downloading nvidia_curand_cu12-10.3.5.147-py3-none-manylinux2014_x86_64.whl.metadata (1.5 kB)\n",
            "Collecting nvidia-cusolver-cu12==11.6.1.9 (from torch)\n",
            "  Downloading nvidia_cusolver_cu12-11.6.1.9-py3-none-manylinux2014_x86_64.whl.metadata (1.6 kB)\n",
            "Collecting nvidia-cusparse-cu12==12.3.1.170 (from torch)\n",
            "  Downloading nvidia_cusparse_cu12-12.3.1.170-py3-none-manylinux2014_x86_64.whl.metadata (1.6 kB)\n",
            "Requirement already satisfied: nvidia-nccl-cu12==2.21.5 in /usr/local/lib/python3.11/dist-packages (from torch) (2.21.5)\n",
            "Requirement already satisfied: nvidia-nvtx-cu12==12.4.127 in /usr/local/lib/python3.11/dist-packages (from torch) (12.4.127)\n",
            "Collecting nvidia-nvjitlink-cu12==12.4.127 (from torch)\n",
            "  Downloading nvidia_nvjitlink_cu12-12.4.127-py3-none-manylinux2014_x86_64.whl.metadata (1.5 kB)\n",
            "Requirement already satisfied: triton==3.1.0 in /usr/local/lib/python3.11/dist-packages (from torch) (3.1.0)\n",
            "Requirement already satisfied: sympy==1.13.1 in /usr/local/lib/python3.11/dist-packages (from torch) (1.13.1)\n",
            "Requirement already satisfied: mpmath<1.4,>=1.1.0 in /usr/local/lib/python3.11/dist-packages (from sympy==1.13.1->torch) (1.3.0)\n",
            "Requirement already satisfied: psutil in /usr/local/lib/python3.11/dist-packages (from accelerate) (5.9.5)\n",
            "Requirement already satisfied: aiohappyeyeballs>=2.3.0 in /usr/local/lib/python3.11/dist-packages (from aiohttp->datasets) (2.4.6)\n",
            "Requirement already satisfied: aiosignal>=1.1.2 in /usr/local/lib/python3.11/dist-packages (from aiohttp->datasets) (1.3.2)\n",
            "Requirement already satisfied: attrs>=17.3.0 in /usr/local/lib/python3.11/dist-packages (from aiohttp->datasets) (25.1.0)\n",
            "Requirement already satisfied: frozenlist>=1.1.1 in /usr/local/lib/python3.11/dist-packages (from aiohttp->datasets) (1.5.0)\n",
            "Requirement already satisfied: multidict<7.0,>=4.5 in /usr/local/lib/python3.11/dist-packages (from aiohttp->datasets) (6.1.0)\n",
            "Requirement already satisfied: propcache>=0.2.0 in /usr/local/lib/python3.11/dist-packages (from aiohttp->datasets) (0.3.0)\n",
            "Requirement already satisfied: yarl<2.0,>=1.17.0 in /usr/local/lib/python3.11/dist-packages (from aiohttp->datasets) (1.18.3)\n",
            "Requirement already satisfied: charset-normalizer<4,>=2 in /usr/local/lib/python3.11/dist-packages (from requests->transformers) (3.4.1)\n",
            "Requirement already satisfied: idna<4,>=2.5 in /usr/local/lib/python3.11/dist-packages (from requests->transformers) (3.10)\n",
            "Requirement already satisfied: urllib3<3,>=1.21.1 in /usr/local/lib/python3.11/dist-packages (from requests->transformers) (2.3.0)\n",
            "Requirement already satisfied: certifi>=2017.4.17 in /usr/local/lib/python3.11/dist-packages (from requests->transformers) (2025.1.31)\n",
            "Requirement already satisfied: MarkupSafe>=2.0 in /usr/local/lib/python3.11/dist-packages (from jinja2->torch) (3.0.2)\n",
            "Requirement already satisfied: python-dateutil>=2.8.2 in /usr/local/lib/python3.11/dist-packages (from pandas->datasets) (2.8.2)\n",
            "Requirement already satisfied: pytz>=2020.1 in /usr/local/lib/python3.11/dist-packages (from pandas->datasets) (2025.1)\n",
            "Requirement already satisfied: tzdata>=2022.7 in /usr/local/lib/python3.11/dist-packages (from pandas->datasets) (2025.1)\n",
            "Requirement already satisfied: six>=1.5 in /usr/local/lib/python3.11/dist-packages (from python-dateutil>=2.8.2->pandas->datasets) (1.17.0)\n",
            "Downloading datasets-3.3.2-py3-none-any.whl (485 kB)\n",
            "\u001b[2K   \u001b[90m━━━━━━━━━━━━━━━━━━━━━━━━━━━━━━━━━━━━━━━━\u001b[0m \u001b[32m485.4/485.4 kB\u001b[0m \u001b[31m9.5 MB/s\u001b[0m eta \u001b[36m0:00:00\u001b[0m\n",
            "\u001b[?25hDownloading nvidia_cublas_cu12-12.4.5.8-py3-none-manylinux2014_x86_64.whl (363.4 MB)\n",
            "\u001b[2K   \u001b[90m━━━━━━━━━━━━━━━━━━━━━━━━━━━━━━━━━━━━━━━━\u001b[0m \u001b[32m363.4/363.4 MB\u001b[0m \u001b[31m3.1 MB/s\u001b[0m eta \u001b[36m0:00:00\u001b[0m\n",
            "\u001b[?25hDownloading nvidia_cuda_cupti_cu12-12.4.127-py3-none-manylinux2014_x86_64.whl (13.8 MB)\n",
            "\u001b[2K   \u001b[90m━━━━━━━━━━━━━━━━━━━━━━━━━━━━━━━━━━━━━━━━\u001b[0m \u001b[32m13.8/13.8 MB\u001b[0m \u001b[31m120.8 MB/s\u001b[0m eta \u001b[36m0:00:00\u001b[0m\n",
            "\u001b[?25hDownloading nvidia_cuda_nvrtc_cu12-12.4.127-py3-none-manylinux2014_x86_64.whl (24.6 MB)\n",
            "\u001b[2K   \u001b[90m━━━━━━━━━━━━━━━━━━━━━━━━━━━━━━━━━━━━━━━━\u001b[0m \u001b[32m24.6/24.6 MB\u001b[0m \u001b[31m91.3 MB/s\u001b[0m eta \u001b[36m0:00:00\u001b[0m\n",
            "\u001b[?25hDownloading nvidia_cuda_runtime_cu12-12.4.127-py3-none-manylinux2014_x86_64.whl (883 kB)\n",
            "\u001b[2K   \u001b[90m━━━━━━━━━━━━━━━━━━━━━━━━━━━━━━━━━━━━━━━━\u001b[0m \u001b[32m883.7/883.7 kB\u001b[0m \u001b[31m61.0 MB/s\u001b[0m eta \u001b[36m0:00:00\u001b[0m\n",
            "\u001b[?25hDownloading nvidia_cudnn_cu12-9.1.0.70-py3-none-manylinux2014_x86_64.whl (664.8 MB)\n",
            "\u001b[2K   \u001b[90m━━━━━━━━━━━━━━━━━━━━━━━━━━━━━━━━━━━━━━━━\u001b[0m \u001b[32m664.8/664.8 MB\u001b[0m \u001b[31m2.4 MB/s\u001b[0m eta \u001b[36m0:00:00\u001b[0m\n",
            "\u001b[?25hDownloading nvidia_cufft_cu12-11.2.1.3-py3-none-manylinux2014_x86_64.whl (211.5 MB)\n",
            "\u001b[2K   \u001b[90m━━━━━━━━━━━━━━━━━━━━━━━━━━━━━━━━━━━━━━━━\u001b[0m \u001b[32m211.5/211.5 MB\u001b[0m \u001b[31m4.7 MB/s\u001b[0m eta \u001b[36m0:00:00\u001b[0m\n",
            "\u001b[?25hDownloading nvidia_curand_cu12-10.3.5.147-py3-none-manylinux2014_x86_64.whl (56.3 MB)\n",
            "\u001b[2K   \u001b[90m━━━━━━━━━━━━━━━━━━━━━━━━━━━━━━━━━━━━━━━━\u001b[0m \u001b[32m56.3/56.3 MB\u001b[0m \u001b[31m36.0 MB/s\u001b[0m eta \u001b[36m0:00:00\u001b[0m\n",
            "\u001b[?25hDownloading nvidia_cusolver_cu12-11.6.1.9-py3-none-manylinux2014_x86_64.whl (127.9 MB)\n",
            "\u001b[2K   \u001b[90m━━━━━━━━━━━━━━━━━━━━━━━━━━━━━━━━━━━━━━━━\u001b[0m \u001b[32m127.9/127.9 MB\u001b[0m \u001b[31m17.1 MB/s\u001b[0m eta \u001b[36m0:00:00\u001b[0m\n",
            "\u001b[?25hDownloading nvidia_cusparse_cu12-12.3.1.170-py3-none-manylinux2014_x86_64.whl (207.5 MB)\n",
            "\u001b[2K   \u001b[90m━━━━━━━━━━━━━━━━━━━━━━━━━━━━━━━━━━━━━━━━\u001b[0m \u001b[32m207.5/207.5 MB\u001b[0m \u001b[31m4.1 MB/s\u001b[0m eta \u001b[36m0:00:00\u001b[0m\n",
            "\u001b[?25hDownloading nvidia_nvjitlink_cu12-12.4.127-py3-none-manylinux2014_x86_64.whl (21.1 MB)\n",
            "\u001b[2K   \u001b[90m━━━━━━━━━━━━━━━━━━━━━━━━━━━━━━━━━━━━━━━━\u001b[0m \u001b[32m21.1/21.1 MB\u001b[0m \u001b[31m78.4 MB/s\u001b[0m eta \u001b[36m0:00:00\u001b[0m\n",
            "\u001b[?25hDownloading dill-0.3.8-py3-none-any.whl (116 kB)\n",
            "\u001b[2K   \u001b[90m━━━━━━━━━━━━━━━━━━━━━━━━━━━━━━━━━━━━━━━━\u001b[0m \u001b[32m116.3/116.3 kB\u001b[0m \u001b[31m10.3 MB/s\u001b[0m eta \u001b[36m0:00:00\u001b[0m\n",
            "\u001b[?25hDownloading multiprocess-0.70.16-py311-none-any.whl (143 kB)\n",
            "\u001b[2K   \u001b[90m━━━━━━━━━━━━━━━━━━━━━━━━━━━━━━━━━━━━━━━━\u001b[0m \u001b[32m143.5/143.5 kB\u001b[0m \u001b[31m12.2 MB/s\u001b[0m eta \u001b[36m0:00:00\u001b[0m\n",
            "\u001b[?25hDownloading xxhash-3.5.0-cp311-cp311-manylinux_2_17_x86_64.manylinux2014_x86_64.whl (194 kB)\n",
            "\u001b[2K   \u001b[90m━━━━━━━━━━━━━━━━━━━━━━━━━━━━━━━━━━━━━━━━\u001b[0m \u001b[32m194.8/194.8 kB\u001b[0m \u001b[31m16.1 MB/s\u001b[0m eta \u001b[36m0:00:00\u001b[0m\n",
            "\u001b[?25hInstalling collected packages: xxhash, nvidia-nvjitlink-cu12, nvidia-curand-cu12, nvidia-cufft-cu12, nvidia-cuda-runtime-cu12, nvidia-cuda-nvrtc-cu12, nvidia-cuda-cupti-cu12, nvidia-cublas-cu12, dill, nvidia-cusparse-cu12, nvidia-cudnn-cu12, multiprocess, nvidia-cusolver-cu12, datasets\n",
            "  Attempting uninstall: nvidia-nvjitlink-cu12\n",
            "    Found existing installation: nvidia-nvjitlink-cu12 12.5.82\n",
            "    Uninstalling nvidia-nvjitlink-cu12-12.5.82:\n",
            "      Successfully uninstalled nvidia-nvjitlink-cu12-12.5.82\n",
            "  Attempting uninstall: nvidia-curand-cu12\n",
            "    Found existing installation: nvidia-curand-cu12 10.3.6.82\n",
            "    Uninstalling nvidia-curand-cu12-10.3.6.82:\n",
            "      Successfully uninstalled nvidia-curand-cu12-10.3.6.82\n",
            "  Attempting uninstall: nvidia-cufft-cu12\n",
            "    Found existing installation: nvidia-cufft-cu12 11.2.3.61\n",
            "    Uninstalling nvidia-cufft-cu12-11.2.3.61:\n",
            "      Successfully uninstalled nvidia-cufft-cu12-11.2.3.61\n",
            "  Attempting uninstall: nvidia-cuda-runtime-cu12\n",
            "    Found existing installation: nvidia-cuda-runtime-cu12 12.5.82\n",
            "    Uninstalling nvidia-cuda-runtime-cu12-12.5.82:\n",
            "      Successfully uninstalled nvidia-cuda-runtime-cu12-12.5.82\n",
            "  Attempting uninstall: nvidia-cuda-nvrtc-cu12\n",
            "    Found existing installation: nvidia-cuda-nvrtc-cu12 12.5.82\n",
            "    Uninstalling nvidia-cuda-nvrtc-cu12-12.5.82:\n",
            "      Successfully uninstalled nvidia-cuda-nvrtc-cu12-12.5.82\n",
            "  Attempting uninstall: nvidia-cuda-cupti-cu12\n",
            "    Found existing installation: nvidia-cuda-cupti-cu12 12.5.82\n",
            "    Uninstalling nvidia-cuda-cupti-cu12-12.5.82:\n",
            "      Successfully uninstalled nvidia-cuda-cupti-cu12-12.5.82\n",
            "  Attempting uninstall: nvidia-cublas-cu12\n",
            "    Found existing installation: nvidia-cublas-cu12 12.5.3.2\n",
            "    Uninstalling nvidia-cublas-cu12-12.5.3.2:\n",
            "      Successfully uninstalled nvidia-cublas-cu12-12.5.3.2\n",
            "  Attempting uninstall: nvidia-cusparse-cu12\n",
            "    Found existing installation: nvidia-cusparse-cu12 12.5.1.3\n",
            "    Uninstalling nvidia-cusparse-cu12-12.5.1.3:\n",
            "      Successfully uninstalled nvidia-cusparse-cu12-12.5.1.3\n",
            "  Attempting uninstall: nvidia-cudnn-cu12\n",
            "    Found existing installation: nvidia-cudnn-cu12 9.3.0.75\n",
            "    Uninstalling nvidia-cudnn-cu12-9.3.0.75:\n",
            "      Successfully uninstalled nvidia-cudnn-cu12-9.3.0.75\n",
            "  Attempting uninstall: nvidia-cusolver-cu12\n",
            "    Found existing installation: nvidia-cusolver-cu12 11.6.3.83\n",
            "    Uninstalling nvidia-cusolver-cu12-11.6.3.83:\n",
            "      Successfully uninstalled nvidia-cusolver-cu12-11.6.3.83\n",
            "Successfully installed datasets-3.3.2 dill-0.3.8 multiprocess-0.70.16 nvidia-cublas-cu12-12.4.5.8 nvidia-cuda-cupti-cu12-12.4.127 nvidia-cuda-nvrtc-cu12-12.4.127 nvidia-cuda-runtime-cu12-12.4.127 nvidia-cudnn-cu12-9.1.0.70 nvidia-cufft-cu12-11.2.1.3 nvidia-curand-cu12-10.3.5.147 nvidia-cusolver-cu12-11.6.1.9 nvidia-cusparse-cu12-12.3.1.170 nvidia-nvjitlink-cu12-12.4.127 xxhash-3.5.0\n"
          ]
        }
      ]
    },
    {
      "cell_type": "markdown",
      "source": [
        "# Contexte ( difficultés rencontrées )"
      ],
      "metadata": {
        "id": "YLEvV5J4YLGr"
      }
    },
    {
      "cell_type": "markdown",
      "source": [
        " L'idée première du projet était de générer dans le domaine de l'éducation un quizz à partir d'un corpus de cours pour aider les élèves à réviser. Générer les questions et les réponses pour entrainer le modèle s'est avéré être une tâche trop ardue, ainsi Ashley et Soumia ont envisagé de changer de projet. La deuxième idée de projet a été de détecter des fake-news. Elles ont essayé de comparer deux modèles existants. Elles ont fait plusieurs essais. Toutefois ce dernier sujet leur paraissait trop simple. Elles ont préféré trouver des solutions sur le thème de l'éducation et l'assistante virtuelle aux devoirs.\n",
        "\n",
        "Elles se sont réparties le travail de programmation et d'essais informatiques. Ashley a rencontré des difficultés pour trouver un modèle en français et un corpus français en lien avec les fakes news.\n",
        "Finalement, Soumia a réussi à faire tourner un modèle en lien avec la première idée du projet.\n",
        "Ashley et Soumia ont dû faire face à des inconvénients comme l’optimisation des temps de calculs et des poids du modèles. Le modèle ne se sauvegardait pas correctement. Après plusieurs tentatives, elles ont trouvé la solution. En parallèle, elles ont essayé de finetuner un modèle pour classer les questions en fonction de leur difficulté : le modèle classait les questions, des plus simples aux plus complexes. Avec un corpus sous-dimensionné, la généralisation des résultats n'était pas satisfaisante.\n",
        "\n",
        "\n",
        "---\n",
        "\n"
      ],
      "metadata": {
        "id": "9jbqGN1KZeTl"
      }
    },
    {
      "cell_type": "markdown",
      "source": [
        "##Méthodologie"
      ],
      "metadata": {
        "id": "c-kOtFSZZL83"
      }
    },
    {
      "cell_type": "markdown",
      "source": [
        "\n",
        "\n",
        "1.   **Préparation** **des données**\n",
        "\n",
        "Chargement du dataset : Nous avons utilisé le dataset \"LsTam/CQuAE_synthetic\" de Hugging Face.\n",
        "\n",
        "* **Traitement des données :** Nous avons créé une fonction pour préparer les données. Cette fonction effectue plusieurs tâches importantes :\n",
        "\n",
        "* Elle extrait le contexte et l'identifiant de la question (QID) de chaque exemple.\n",
        "\n",
        "* Pour chaque type de question (définition, factuelle, synthèse), elle crée une entrée distincte.\n",
        "\n",
        "* Elle formate l'entrée en incluant des marqueurs spéciaux pour le type de question, le contexte et le QID.\n",
        "\n",
        "* Elle tokenize les entrées et les cibles (questions) en utilisant le tokenizer de BARThez.\n",
        "\n",
        "* Elle applique un padding et une troncature pour s'assurer que toutes les séquences ont la même longueur.\n",
        "\n",
        "* Elle prépare les labels en remplaçant les tokens de padding par -100 pour qu'ils soient ignorés lors du calcul de la perte.\n",
        "\n",
        "* **Application de la préparation :** Cette fonction de préparation est appliquée à l'ensemble du dataset d'entraînement, créant ainsi un dataset prêt pour l'entraînement du modèle.\n",
        "\n",
        "2.   **Entrainement**\n",
        "\n",
        "* Chargement du modèle: BARThez a été chargé depuis Hugging Face avec son tokenizer associé.\n",
        "\n",
        "* Le modèle a été transféré sur un appareil qui contient un (GPU).\n",
        "\n",
        "* Configuration de l'entraînement : Nous avons défini les paramètres d'entraînement, incluant :\n",
        "\n",
        "* Le nombre d'époques (8)\n",
        "\n",
        "* La taille des batchs pour l'entraînement et l'évaluation.\n",
        "\n",
        "* Les étapes de warmup et le taux de décroissance des poids.\n",
        "\n",
        "* La stratégie d'évaluation et de sauvegarde.\n",
        "\n",
        "* L'utilisation de la précision mixte (FP16) pour optimiser les performances\n",
        "\n",
        "* Initialisation du Trainer : Nous avons utilisé la classe Trainer de Hugging Face, qui gère l'entraînement et l'évaluation du modèle. Nous lui avons fourni le modèle, les arguments d'entraînement, les datasets d'entraînement et d'évaluation, ainsi que le tokenizer.\n",
        "\n",
        "* Entraînement : Le processus d'entraînement a été lancé, permettant au modèle d'apprendre à générer des questions à partir des contextes fournis.\n",
        "\n",
        "* Sauvegarde du modèle : Après l'entraînement, le modèle a été sauvegardé sur Google Drive pour une utilisation ultérieure."
      ],
      "metadata": {
        "id": "PFyfZgurLckz"
      }
    },
    {
      "cell_type": "markdown",
      "source": [
        "**Évaluation** :\n",
        "\n",
        "Pour l'évaluation de notre modèle, nous nous sommes concentrées principalement sur la validation de la perte (`validation loss)`. Cette approche, bien que basique, nous a permis de suivre l'évolution des performances du modèle au cours de l'entraînement.\n",
        "\n",
        " Pendant l'entraînement, le modèle a été évalué à intervalles réguliers sur un sous-ensemble de validation. Cela nous a permis de suivre à la fois la perte d'entraînement (`training loss)` et la perte de validation.\n",
        " L'entraînement s'est déroulé sur 8 époques, totalisant 36 912 étapes, avec une durée totale d'environ 1 heure et 50 minutes sur un **GPU L4**.\n",
        "\n",
        "Malheureusement, nous n'avons pas sauvegardé les résultats dans une matrice dédiée. Cependant, nous avons pu récupérer ces informations directement à partir des logs du notebook. Ces logs incluent les valeurs de perte d'entraînement et de validation à différentes étapes de l'entraînement.\n",
        "\n",
        "Nous avions initialement prévu d'évaluer le modèle pendant l'entraînement à l'aide de métriques spécifiques à la génération de texte, telles que BLEU (pour mesurer la précision des n-grammes) et ROUGE (pour évaluer le rappel basé sur les correspondances textuelles). Malheureusement, nous avons oublié d'intégrer ces évaluations lors du premier entraînement. Lorsque nous nous sommes rendu compte de cet oubli, nous avons voulu relancer l'entraînement avec ces métriques intégrées. Ces métriques auraient permis une évaluation plus approfondie de la qualité linguistique et sémantique des questions générées par le modèle. Cependant, en raison des limitations financières liées à notre abonnement Google Colab Pro (insuffisance de crédits), nous n'avons pas pu relancer l'entraînement avec ces métriques intégrées.\n",
        "\n",
        "\n"
      ],
      "metadata": {
        "id": "o5xmJW0ldlml"
      }
    },
    {
      "cell_type": "markdown",
      "source": [
        "##Résultats et Exemples"
      ],
      "metadata": {
        "id": "AAWjd3I0ZV01"
      }
    },
    {
      "cell_type": "markdown",
      "source": [
        "**Pourquoi n’avons-nous pas pu enregistrer les résultats et comment les avons-nous récupérés ?**\n",
        "* Lors de l'entraînement du modèle BARThez avec Hugging Face Trainer, nous avons utilisé les paramètres logging_steps=10 et evaluation_strategy=\"steps\", ce qui signifie que les pertes d'entraînement (Training Loss) et de validation (Validation Loss) ont bien été enregistrées dans les logs internes de Trainer.\n",
        "\n",
        "* Plutôt que de réentraîner complètement le modèle, nous avons extrait les valeurs affichées durant l'entraînement et les avons manuellement enregistrées sous forme de listes en Python.\n",
        "Nous avons ensuite utilisé ces données pour :\n",
        "\n",
        " - Tracer un graphique de l'évolution de la perte au fil du temps 📊.\n",
        "\n",
        " - Identifier la meilleure itération du modèle (où la Validation Loss est la plus basse).\n",
        " -Analyser la convergence du modèle sans avoir à refaire un entraînement coûteux en ressources."
      ],
      "metadata": {
        "id": "4odwiI-7ZfZo"
      }
    },
    {
      "cell_type": "code",
      "source": [
        "import matplotlib.pyplot as plt\n",
        "\n",
        "# Étapes d'entraînement\n",
        "steps = [\n",
        "    500, 1000, 1500, 2000, 2500, 3000, 3500, 4000, 4500, 5000, 5500, 6000, 6500, 7000, 7500, 8000,\n",
        "    8500, 9000, 9500, 10000, 10500, 11000, 11500, 12000, 12500, 13000, 13500, 14000, 14500, 15000,\n",
        "    15500, 16000, 16500, 17000, 17500, 18000, 18500, 19000, 19500, 20000, 20500, 21000, 21500,\n",
        "    22000, 22500, 23000, 23500, 24000, 24500, 25000, 25500, 26000, 26500, 27000, 27500, 28000,\n",
        "    28500, 29000, 29500, 30000, 30500, 31000, 31500, 32000, 32500, 33000, 33500, 34000, 34500,\n",
        "    35000, 35500, 36000, 36500\n",
        "]\n",
        "\n",
        "# Training Loss à chaque step\n",
        "training_loss = [\n",
        "    1.6995, 1.6963, 1.5371, 1.4817, 1.3982, 1.2988, 1.4638, 1.3154, 1.2878, 1.0824,\n",
        "    1.2275, 1.1804, 1.1075, 1.2189, 1.243, 1.0574, 1.0901, 0.9808, 0.9056, 0.9866,\n",
        "    1.0364, 1.032, 0.8213, 0.9237, 0.8404, 0.9344, 1.0035, 0.7721, 0.8508, 0.7342,\n",
        "    0.7501, 0.8014, 0.7435, 0.8617, 0.7386, 0.7537, 0.6731, 0.6015, 0.6438, 0.6682,\n",
        "    0.661, 0.6701, 0.7042, 0.6767, 0.6835, 0.692, 0.5573, 0.522, 0.5957, 0.6348,\n",
        "    0.6224, 0.5979, 0.7254, 0.5812, 0.5467, 0.5553, 0.5897, 0.4947, 0.4356, 0.5634,\n",
        "    0.5058, 0.5318, 0.5583, 0.577, 0.4464, 0.4751, 0.5395, 0.4919, 0.4705, 0.4812,\n",
        "    0.4956, 0.4823, 0.5099\n",
        "]\n",
        "\n",
        "# Validation Loss à chaque step\n",
        "validation_loss = [\n",
        "    1.1069, 0.9629, 0.9115, 0.8708, 0.8353, 0.7919, 0.7564, 0.7333, 0.7191, 0.6763,\n",
        "    0.6528, 0.6534, 0.6318, 0.6196, 0.5828, 0.5732, 0.5675, 0.5427, 0.5226, 0.5237,\n",
        "    0.5023, 0.4841, 0.4736, 0.4586, 0.4434, 0.4366, 0.4286, 0.4082, 0.4020, 0.4003,\n",
        "    0.3900, 0.3745, 0.3638, 0.3597, 0.3408, 0.3362, 0.3267, 0.3135, 0.3035, 0.2979,\n",
        "    0.2974, 0.2907, 0.2874, 0.2778, 0.2683, 0.2671, 0.2612, 0.2515, 0.2441, 0.2405,\n",
        "    0.2357, 0.2313, 0.2271, 0.2179, 0.2141, 0.2094, 0.2045, 0.2022, 0.2078, 0.1990,\n",
        "    0.1930, 0.1899, 0.1873, 0.1840, 0.1815, 0.1794, 0.1807, 0.1776, 0.1782, 0.1746,\n",
        "    0.1736, 0.1731, 0.1709\n",
        "]\n"
      ],
      "metadata": {
        "id": "DyhtZMRXNGPi"
      },
      "execution_count": null,
      "outputs": []
    },
    {
      "cell_type": "code",
      "source": [
        "# Tracer les pertes d'entraînement et de validation\n",
        "plt.figure(figsize=(10, 5))\n",
        "\n",
        "# Training Loss\n",
        "plt.plot(steps, training_loss, label=\"Training Loss\", color='blue', marker='o')\n",
        "\n",
        "# Validation Loss\n",
        "plt.plot(steps, validation_loss, label=\"Validation Loss\", color='red', marker='o')\n",
        "\n",
        "# Titres et labels\n",
        "plt.xlabel(\"Training Steps\")\n",
        "plt.ylabel(\"Loss\")\n",
        "plt.title(\"Évolution de la Training Loss et Validation Loss\")\n",
        "plt.legend()\n",
        "plt.grid()\n",
        "\n",
        "# Afficher le graphique\n",
        "plt.show()\n"
      ],
      "metadata": {
        "colab": {
          "base_uri": "https://localhost:8080/",
          "height": 490
        },
        "id": "3D4QGL15QM-0",
        "outputId": "2b18387d-9960-4478-c932-772b03d3fa3f"
      },
      "execution_count": null,
      "outputs": [
        {
          "output_type": "display_data",
          "data": {
            "text/plain": [
              "<Figure size 1000x500 with 1 Axes>"
            ],
            "image/png": "[encoded data removed]"
          },
          "metadata": {}
        }
      ]
    },
    {
      "cell_type": "markdown",
      "source": [
        "L'entraînement du modèle **BARThez** a montré une convergence réussie, avec une **Training Loss** passant de **1.6995** à **0.5099** et une **Validation** **Loss** chutant de **1.1069**  à  **0.1709**  sur 36 500 steps. L'absence de surapprentissage et la baisse continue des pertes indiquent un modèle performant et bien généralisé. Le meilleur modèle a été atteint à Step **36 500**, mais l'entraînement aurait pu être optimisé en s'arrêtant autour de **30 000** steps pour économiser des ressources."
      ],
      "metadata": {
        "id": "c3yRfUL1SKSI"
      }
    },
    {
      "cell_type": "code",
      "source": [],
      "metadata": {
        "id": "JcHDY4BSQMxc"
      },
      "execution_count": null,
      "outputs": []
    },
    {
      "cell_type": "markdown",
      "source": [
        "Nous avons tout de même choisi de montrer comment l’évaluation aurait pu être réalisée en appliquant notre modèle sur un exemple spécifique. Cet exemple permet malgré tout d'illustrer le processus de génération et d’évaluation, bien que les résultats ne reflètent pas une analyse complète sur l’ensemble du corpus d’évaluation."
      ],
      "metadata": {
        "id": "dKjOlE4Tf1Ui"
      }
    },
    {
      "cell_type": "markdown",
      "source": [
        "### Explications des métriques BLEU, METEOR et ROUGE\n",
        "\n",
        "**BLEU** : évalue la similarité des n-grams.\n",
        "\n",
        "**METEOR** : métrique qui prend en compte les synonymes, les formes fléclies et l'ordre des mots\n",
        "\n",
        "**ROUGE** : compare la structure globale"
      ],
      "metadata": {
        "id": "rxqeu_B0gLMP"
      }
    },
    {
      "cell_type": "code",
      "source": [
        "pip install transformers datasets torch evaluate rouge_score nltk"
      ],
      "metadata": {
        "colab": {
          "base_uri": "https://localhost:8080/"
        },
        "id": "n1VM0ne4gUSi",
        "outputId": "87fbed0d-45d1-4224-a744-e6abbf73a35a"
      },
      "execution_count": null,
      "outputs": [
        {
          "output_type": "stream",
          "name": "stdout",
          "text": [
            "Requirement already satisfied: transformers in /usr/local/lib/python3.11/dist-packages (4.48.3)\n",
            "Collecting datasets\n",
            "  Downloading datasets-3.3.2-py3-none-any.whl.metadata (19 kB)\n",
            "Requirement already satisfied: torch in /usr/local/lib/python3.11/dist-packages (2.5.1+cu124)\n",
            "Collecting evaluate\n",
            "  Downloading evaluate-0.4.3-py3-none-any.whl.metadata (9.2 kB)\n",
            "Collecting rouge_score\n",
            "  Downloading rouge_score-0.1.2.tar.gz (17 kB)\n",
            "  Preparing metadata (setup.py) ... \u001b[?25l\u001b[?25hdone\n",
            "Requirement already satisfied: nltk in /usr/local/lib/python3.11/dist-packages (3.9.1)\n",
            "Requirement already satisfied: filelock in /usr/local/lib/python3.11/dist-packages (from transformers) (3.17.0)\n",
            "Requirement already satisfied: huggingface-hub<1.0,>=0.24.0 in /usr/local/lib/python3.11/dist-packages (from transformers) (0.28.1)\n",
            "Requirement already satisfied: numpy>=1.17 in /usr/local/lib/python3.11/dist-packages (from transformers) (1.26.4)\n",
            "Requirement already satisfied: packaging>=20.0 in /usr/local/lib/python3.11/dist-packages (from transformers) (24.2)\n",
            "Requirement already satisfied: pyyaml>=5.1 in /usr/local/lib/python3.11/dist-packages (from transformers) (6.0.2)\n",
            "Requirement already satisfied: regex!=2019.12.17 in /usr/local/lib/python3.11/dist-packages (from transformers) (2024.11.6)\n",
            "Requirement already satisfied: requests in /usr/local/lib/python3.11/dist-packages (from transformers) (2.32.3)\n",
            "Requirement already satisfied: tokenizers<0.22,>=0.21 in /usr/local/lib/python3.11/dist-packages (from transformers) (0.21.0)\n",
            "Requirement already satisfied: safetensors>=0.4.1 in /usr/local/lib/python3.11/dist-packages (from transformers) (0.5.3)\n",
            "Requirement already satisfied: tqdm>=4.27 in /usr/local/lib/python3.11/dist-packages (from transformers) (4.67.1)\n",
            "Requirement already satisfied: pyarrow>=15.0.0 in /usr/local/lib/python3.11/dist-packages (from datasets) (18.1.0)\n",
            "Collecting dill<0.3.9,>=0.3.0 (from datasets)\n",
            "  Downloading dill-0.3.8-py3-none-any.whl.metadata (10 kB)\n",
            "Requirement already satisfied: pandas in /usr/local/lib/python3.11/dist-packages (from datasets) (2.2.2)\n",
            "Collecting xxhash (from datasets)\n",
            "  Downloading xxhash-3.5.0-cp311-cp311-manylinux_2_17_x86_64.manylinux2014_x86_64.whl.metadata (12 kB)\n",
            "Collecting multiprocess<0.70.17 (from datasets)\n",
            "  Downloading multiprocess-0.70.16-py311-none-any.whl.metadata (7.2 kB)\n",
            "Requirement already satisfied: fsspec<=2024.12.0,>=2023.1.0 in /usr/local/lib/python3.11/dist-packages (from fsspec[http]<=2024.12.0,>=2023.1.0->datasets) (2024.10.0)\n",
            "Requirement already satisfied: aiohttp in /usr/local/lib/python3.11/dist-packages (from datasets) (3.11.13)\n",
            "Requirement already satisfied: typing-extensions>=4.8.0 in /usr/local/lib/python3.11/dist-packages (from torch) (4.12.2)\n",
            "Requirement already satisfied: networkx in /usr/local/lib/python3.11/dist-packages (from torch) (3.4.2)\n",
            "Requirement already satisfied: jinja2 in /usr/local/lib/python3.11/dist-packages (from torch) (3.1.5)\n",
            "Collecting nvidia-cuda-nvrtc-cu12==12.4.127 (from torch)\n",
            "  Downloading nvidia_cuda_nvrtc_cu12-12.4.127-py3-none-manylinux2014_x86_64.whl.metadata (1.5 kB)\n",
            "Collecting nvidia-cuda-runtime-cu12==12.4.127 (from torch)\n",
            "  Downloading nvidia_cuda_runtime_cu12-12.4.127-py3-none-manylinux2014_x86_64.whl.metadata (1.5 kB)\n",
            "Collecting nvidia-cuda-cupti-cu12==12.4.127 (from torch)\n",
            "  Downloading nvidia_cuda_cupti_cu12-12.4.127-py3-none-manylinux2014_x86_64.whl.metadata (1.6 kB)\n",
            "Collecting nvidia-cudnn-cu12==9.1.0.70 (from torch)\n",
            "  Downloading nvidia_cudnn_cu12-9.1.0.70-py3-none-manylinux2014_x86_64.whl.metadata (1.6 kB)\n",
            "Collecting nvidia-cublas-cu12==12.4.5.8 (from torch)\n",
            "  Downloading nvidia_cublas_cu12-12.4.5.8-py3-none-manylinux2014_x86_64.whl.metadata (1.5 kB)\n",
            "Collecting nvidia-cufft-cu12==11.2.1.3 (from torch)\n",
            "  Downloading nvidia_cufft_cu12-11.2.1.3-py3-none-manylinux2014_x86_64.whl.metadata (1.5 kB)\n",
            "Collecting nvidia-curand-cu12==10.3.5.147 (from torch)\n",
            "  Downloading nvidia_curand_cu12-10.3.5.147-py3-none-manylinux2014_x86_64.whl.metadata (1.5 kB)\n",
            "Collecting nvidia-cusolver-cu12==11.6.1.9 (from torch)\n",
            "  Downloading nvidia_cusolver_cu12-11.6.1.9-py3-none-manylinux2014_x86_64.whl.metadata (1.6 kB)\n",
            "Collecting nvidia-cusparse-cu12==12.3.1.170 (from torch)\n",
            "  Downloading nvidia_cusparse_cu12-12.3.1.170-py3-none-manylinux2014_x86_64.whl.metadata (1.6 kB)\n",
            "Requirement already satisfied: nvidia-nccl-cu12==2.21.5 in /usr/local/lib/python3.11/dist-packages (from torch) (2.21.5)\n",
            "Requirement already satisfied: nvidia-nvtx-cu12==12.4.127 in /usr/local/lib/python3.11/dist-packages (from torch) (12.4.127)\n",
            "Collecting nvidia-nvjitlink-cu12==12.4.127 (from torch)\n",
            "  Downloading nvidia_nvjitlink_cu12-12.4.127-py3-none-manylinux2014_x86_64.whl.metadata (1.5 kB)\n",
            "Requirement already satisfied: triton==3.1.0 in /usr/local/lib/python3.11/dist-packages (from torch) (3.1.0)\n",
            "Requirement already satisfied: sympy==1.13.1 in /usr/local/lib/python3.11/dist-packages (from torch) (1.13.1)\n",
            "Requirement already satisfied: mpmath<1.4,>=1.1.0 in /usr/local/lib/python3.11/dist-packages (from sympy==1.13.1->torch) (1.3.0)\n",
            "Requirement already satisfied: absl-py in /usr/local/lib/python3.11/dist-packages (from rouge_score) (1.4.0)\n",
            "Requirement already satisfied: six>=1.14.0 in /usr/local/lib/python3.11/dist-packages (from rouge_score) (1.17.0)\n",
            "Requirement already satisfied: click in /usr/local/lib/python3.11/dist-packages (from nltk) (8.1.8)\n",
            "Requirement already satisfied: joblib in /usr/local/lib/python3.11/dist-packages (from nltk) (1.4.2)\n",
            "Requirement already satisfied: aiohappyeyeballs>=2.3.0 in /usr/local/lib/python3.11/dist-packages (from aiohttp->datasets) (2.4.6)\n",
            "Requirement already satisfied: aiosignal>=1.1.2 in /usr/local/lib/python3.11/dist-packages (from aiohttp->datasets) (1.3.2)\n",
            "Requirement already satisfied: attrs>=17.3.0 in /usr/local/lib/python3.11/dist-packages (from aiohttp->datasets) (25.1.0)\n",
            "Requirement already satisfied: frozenlist>=1.1.1 in /usr/local/lib/python3.11/dist-packages (from aiohttp->datasets) (1.5.0)\n",
            "Requirement already satisfied: multidict<7.0,>=4.5 in /usr/local/lib/python3.11/dist-packages (from aiohttp->datasets) (6.1.0)\n",
            "Requirement already satisfied: propcache>=0.2.0 in /usr/local/lib/python3.11/dist-packages (from aiohttp->datasets) (0.3.0)\n",
            "Requirement already satisfied: yarl<2.0,>=1.17.0 in /usr/local/lib/python3.11/dist-packages (from aiohttp->datasets) (1.18.3)\n",
            "Requirement already satisfied: charset-normalizer<4,>=2 in /usr/local/lib/python3.11/dist-packages (from requests->transformers) (3.4.1)\n",
            "Requirement already satisfied: idna<4,>=2.5 in /usr/local/lib/python3.11/dist-packages (from requests->transformers) (3.10)\n",
            "Requirement already satisfied: urllib3<3,>=1.21.1 in /usr/local/lib/python3.11/dist-packages (from requests->transformers) (2.3.0)\n",
            "Requirement already satisfied: certifi>=2017.4.17 in /usr/local/lib/python3.11/dist-packages (from requests->transformers) (2025.1.31)\n",
            "Requirement already satisfied: MarkupSafe>=2.0 in /usr/local/lib/python3.11/dist-packages (from jinja2->torch) (3.0.2)\n",
            "Requirement already satisfied: python-dateutil>=2.8.2 in /usr/local/lib/python3.11/dist-packages (from pandas->datasets) (2.8.2)\n",
            "Requirement already satisfied: pytz>=2020.1 in /usr/local/lib/python3.11/dist-packages (from pandas->datasets) (2025.1)\n",
            "Requirement already satisfied: tzdata>=2022.7 in /usr/local/lib/python3.11/dist-packages (from pandas->datasets) (2025.1)\n",
            "Downloading datasets-3.3.2-py3-none-any.whl (485 kB)\n",
            "\u001b[2K   \u001b[90m━━━━━━━━━━━━━━━━━━━━━━━━━━━━━━━━━━━━━━━━\u001b[0m \u001b[32m485.4/485.4 kB\u001b[0m \u001b[31m9.3 MB/s\u001b[0m eta \u001b[36m0:00:00\u001b[0m\n",
            "\u001b[?25hDownloading nvidia_cublas_cu12-12.4.5.8-py3-none-manylinux2014_x86_64.whl (363.4 MB)\n",
            "\u001b[2K   \u001b[90m━━━━━━━━━━━━━━━━━━━━━━━━━━━━━━━━━━━━━━━━\u001b[0m \u001b[32m363.4/363.4 MB\u001b[0m \u001b[31m4.0 MB/s\u001b[0m eta \u001b[36m0:00:00\u001b[0m\n",
            "\u001b[?25hDownloading nvidia_cuda_cupti_cu12-12.4.127-py3-none-manylinux2014_x86_64.whl (13.8 MB)\n",
            "\u001b[2K   \u001b[90m━━━━━━━━━━━━━━━━━━━━━━━━━━━━━━━━━━━━━━━━\u001b[0m \u001b[32m13.8/13.8 MB\u001b[0m \u001b[31m51.3 MB/s\u001b[0m eta \u001b[36m0:00:00\u001b[0m\n",
            "\u001b[?25hDownloading nvidia_cuda_nvrtc_cu12-12.4.127-py3-none-manylinux2014_x86_64.whl (24.6 MB)\n",
            "\u001b[2K   \u001b[90m━━━━━━━━━━━━━━━━━━━━━━━━━━━━━━━━━━━━━━━━\u001b[0m \u001b[32m24.6/24.6 MB\u001b[0m \u001b[31m32.5 MB/s\u001b[0m eta \u001b[36m0:00:00\u001b[0m\n",
            "\u001b[?25hDownloading nvidia_cuda_runtime_cu12-12.4.127-py3-none-manylinux2014_x86_64.whl (883 kB)\n",
            "\u001b[2K   \u001b[90m━━━━━━━━━━━━━━━━━━━━━━━━━━━━━━━━━━━━━━━━\u001b[0m \u001b[32m883.7/883.7 kB\u001b[0m \u001b[31m35.7 MB/s\u001b[0m eta \u001b[36m0:00:00\u001b[0m\n",
            "\u001b[?25hDownloading nvidia_cudnn_cu12-9.1.0.70-py3-none-manylinux2014_x86_64.whl (664.8 MB)\n",
            "\u001b[2K   \u001b[90m━━━━━━━━━━━━━━━━━━━━━━━━━━━━━━━━━━━━━━━━\u001b[0m \u001b[32m664.8/664.8 MB\u001b[0m \u001b[31m2.6 MB/s\u001b[0m eta \u001b[36m0:00:00\u001b[0m\n",
            "\u001b[?25hDownloading nvidia_cufft_cu12-11.2.1.3-py3-none-manylinux2014_x86_64.whl (211.5 MB)\n",
            "\u001b[2K   \u001b[90m━━━━━━━━━━━━━━━━━━━━━━━━━━━━━━━━━━━━━━━━\u001b[0m \u001b[32m211.5/211.5 MB\u001b[0m \u001b[31m5.4 MB/s\u001b[0m eta \u001b[36m0:00:00\u001b[0m\n",
            "\u001b[?25hDownloading nvidia_curand_cu12-10.3.5.147-py3-none-manylinux2014_x86_64.whl (56.3 MB)\n",
            "\u001b[2K   \u001b[90m━━━━━━━━━━━━━━━━━━━━━━━━━━━━━━━━━━━━━━━━\u001b[0m \u001b[32m56.3/56.3 MB\u001b[0m \u001b[31m11.5 MB/s\u001b[0m eta \u001b[36m0:00:00\u001b[0m\n",
            "\u001b[?25hDownloading nvidia_cusolver_cu12-11.6.1.9-py3-none-manylinux2014_x86_64.whl (127.9 MB)\n",
            "\u001b[2K   \u001b[90m━━━━━━━━━━━━━━━━━━━━━━━━━━━━━━━━━━━━━━━━\u001b[0m \u001b[32m127.9/127.9 MB\u001b[0m \u001b[31m7.4 MB/s\u001b[0m eta \u001b[36m0:00:00\u001b[0m\n",
            "\u001b[?25hDownloading nvidia_cusparse_cu12-12.3.1.170-py3-none-manylinux2014_x86_64.whl (207.5 MB)\n",
            "\u001b[2K   \u001b[90m━━━━━━━━━━━━━━━━━━━━━━━━━━━━━━━━━━━━━━━━\u001b[0m \u001b[32m207.5/207.5 MB\u001b[0m \u001b[31m5.1 MB/s\u001b[0m eta \u001b[36m0:00:00\u001b[0m\n",
            "\u001b[?25hDownloading nvidia_nvjitlink_cu12-12.4.127-py3-none-manylinux2014_x86_64.whl (21.1 MB)\n",
            "\u001b[2K   \u001b[90m━━━━━━━━━━━━━━━━━━━━━━━━━━━━━━━━━━━━━━━━\u001b[0m \u001b[32m21.1/21.1 MB\u001b[0m \u001b[31m41.4 MB/s\u001b[0m eta \u001b[36m0:00:00\u001b[0m\n",
            "\u001b[?25hDownloading evaluate-0.4.3-py3-none-any.whl (84 kB)\n",
            "\u001b[2K   \u001b[90m━━━━━━━━━━━━━━━━━━━━━━━━━━━━━━━━━━━━━━━━\u001b[0m \u001b[32m84.0/84.0 kB\u001b[0m \u001b[31m4.2 MB/s\u001b[0m eta \u001b[36m0:00:00\u001b[0m\n",
            "\u001b[?25hDownloading dill-0.3.8-py3-none-any.whl (116 kB)\n",
            "\u001b[2K   \u001b[90m━━━━━━━━━━━━━━━━━━━━━━━━━━━━━━━━━━━━━━━━\u001b[0m \u001b[32m116.3/116.3 kB\u001b[0m \u001b[31m8.4 MB/s\u001b[0m eta \u001b[36m0:00:00\u001b[0m\n",
            "\u001b[?25hDownloading multiprocess-0.70.16-py311-none-any.whl (143 kB)\n",
            "\u001b[2K   \u001b[90m━━━━━━━━━━━━━━━━━━━━━━━━━━━━━━━━━━━━━━━━\u001b[0m \u001b[32m143.5/143.5 kB\u001b[0m \u001b[31m9.4 MB/s\u001b[0m eta \u001b[36m0:00:00\u001b[0m\n",
            "\u001b[?25hDownloading xxhash-3.5.0-cp311-cp311-manylinux_2_17_x86_64.manylinux2014_x86_64.whl (194 kB)\n",
            "\u001b[2K   \u001b[90m━━━━━━━━━━━━━━━━━━━━━━━━━━━━━━━━━━━━━━━━\u001b[0m \u001b[32m194.8/194.8 kB\u001b[0m \u001b[31m12.8 MB/s\u001b[0m eta \u001b[36m0:00:00\u001b[0m\n",
            "\u001b[?25hBuilding wheels for collected packages: rouge_score\n",
            "  Building wheel for rouge_score (setup.py) ... \u001b[?25l\u001b[?25hdone\n",
            "  Created wheel for rouge_score: filename=rouge_score-0.1.2-py3-none-any.whl size=24935 sha256=ee891ae1723b82b790c5ca1db61129bb80db0f3b07c1f41c38d0c830cc158ee0\n",
            "  Stored in directory: /root/.cache/pip/wheels/1e/19/43/8a442dc83660ca25e163e1bd1f89919284ab0d0c1475475148\n",
            "Successfully built rouge_score\n",
            "Installing collected packages: xxhash, nvidia-nvjitlink-cu12, nvidia-curand-cu12, nvidia-cufft-cu12, nvidia-cuda-runtime-cu12, nvidia-cuda-nvrtc-cu12, nvidia-cuda-cupti-cu12, nvidia-cublas-cu12, dill, rouge_score, nvidia-cusparse-cu12, nvidia-cudnn-cu12, multiprocess, nvidia-cusolver-cu12, datasets, evaluate\n",
            "  Attempting uninstall: nvidia-nvjitlink-cu12\n",
            "    Found existing installation: nvidia-nvjitlink-cu12 12.5.82\n",
            "    Uninstalling nvidia-nvjitlink-cu12-12.5.82:\n",
            "      Successfully uninstalled nvidia-nvjitlink-cu12-12.5.82\n",
            "  Attempting uninstall: nvidia-curand-cu12\n",
            "    Found existing installation: nvidia-curand-cu12 10.3.6.82\n",
            "    Uninstalling nvidia-curand-cu12-10.3.6.82:\n",
            "      Successfully uninstalled nvidia-curand-cu12-10.3.6.82\n",
            "  Attempting uninstall: nvidia-cufft-cu12\n",
            "    Found existing installation: nvidia-cufft-cu12 11.2.3.61\n",
            "    Uninstalling nvidia-cufft-cu12-11.2.3.61:\n",
            "      Successfully uninstalled nvidia-cufft-cu12-11.2.3.61\n",
            "  Attempting uninstall: nvidia-cuda-runtime-cu12\n",
            "    Found existing installation: nvidia-cuda-runtime-cu12 12.5.82\n",
            "    Uninstalling nvidia-cuda-runtime-cu12-12.5.82:\n",
            "      Successfully uninstalled nvidia-cuda-runtime-cu12-12.5.82\n",
            "  Attempting uninstall: nvidia-cuda-nvrtc-cu12\n",
            "    Found existing installation: nvidia-cuda-nvrtc-cu12 12.5.82\n",
            "    Uninstalling nvidia-cuda-nvrtc-cu12-12.5.82:\n",
            "      Successfully uninstalled nvidia-cuda-nvrtc-cu12-12.5.82\n",
            "  Attempting uninstall: nvidia-cuda-cupti-cu12\n",
            "    Found existing installation: nvidia-cuda-cupti-cu12 12.5.82\n",
            "    Uninstalling nvidia-cuda-cupti-cu12-12.5.82:\n",
            "      Successfully uninstalled nvidia-cuda-cupti-cu12-12.5.82\n",
            "  Attempting uninstall: nvidia-cublas-cu12\n",
            "    Found existing installation: nvidia-cublas-cu12 12.5.3.2\n",
            "    Uninstalling nvidia-cublas-cu12-12.5.3.2:\n",
            "      Successfully uninstalled nvidia-cublas-cu12-12.5.3.2\n",
            "  Attempting uninstall: nvidia-cusparse-cu12\n",
            "    Found existing installation: nvidia-cusparse-cu12 12.5.1.3\n",
            "    Uninstalling nvidia-cusparse-cu12-12.5.1.3:\n",
            "      Successfully uninstalled nvidia-cusparse-cu12-12.5.1.3\n",
            "  Attempting uninstall: nvidia-cudnn-cu12\n",
            "    Found existing installation: nvidia-cudnn-cu12 9.3.0.75\n",
            "    Uninstalling nvidia-cudnn-cu12-9.3.0.75:\n",
            "      Successfully uninstalled nvidia-cudnn-cu12-9.3.0.75\n",
            "  Attempting uninstall: nvidia-cusolver-cu12\n",
            "    Found existing installation: nvidia-cusolver-cu12 11.6.3.83\n",
            "    Uninstalling nvidia-cusolver-cu12-11.6.3.83:\n",
            "      Successfully uninstalled nvidia-cusolver-cu12-11.6.3.83\n",
            "Successfully installed datasets-3.3.2 dill-0.3.8 evaluate-0.4.3 multiprocess-0.70.16 nvidia-cublas-cu12-12.4.5.8 nvidia-cuda-cupti-cu12-12.4.127 nvidia-cuda-nvrtc-cu12-12.4.127 nvidia-cuda-runtime-cu12-12.4.127 nvidia-cudnn-cu12-9.1.0.70 nvidia-cufft-cu12-11.2.1.3 nvidia-curand-cu12-10.3.5.147 nvidia-cusolver-cu12-11.6.1.9 nvidia-cusparse-cu12-12.3.1.170 nvidia-nvjitlink-cu12-12.4.127 rouge_score-0.1.2 xxhash-3.5.0\n"
          ]
        }
      ]
    },
    {
      "cell_type": "code",
      "source": [
        "from transformers import AutoTokenizer, AutoModelForSeq2SeqLM, TrainingArguments, Trainer\n",
        "from datasets import load_dataset\n",
        "import torch\n",
        "import evaluate"
      ],
      "metadata": {
        "id": "xtrLC8C0gVW7"
      },
      "execution_count": null,
      "outputs": []
    },
    {
      "cell_type": "code",
      "source": [
        "device = torch.device(\"cuda\" if torch.cuda.is_available() else \"cpu\")\n",
        "\n",
        "# Chargement du modèle et du tokenizer BARThez\n",
        "model_path = \"SOUMI23/generator_question_barthez\"\n",
        "tokenizer = AutoTokenizer.from_pretrained(model_path)\n",
        "model = AutoModelForSeq2SeqLM.from_pretrained(model_path).to(device)"
      ],
      "metadata": {
        "id": "joySFWpsgZxA"
      },
      "execution_count": null,
      "outputs": []
    },
    {
      "cell_type": "code",
      "source": [
        "# Fonction pour générer des questions\n",
        "def generate_multiple_questions(text, model, tokenizer, device, question_types=['definition', 'factual', 'synthesis']):\n",
        "    questions = []\n",
        "\n",
        "    # On vérifie que le texte n'est pas vide\n",
        "    if not text.strip():\n",
        "        return [(q_type, \"Le texte est vide.\") for q_type in question_types]\n",
        "\n",
        "    for q_type in question_types:\n",
        "        input_text = f\"<type:{q_type}> Contexte: {text}\"\n",
        "\n",
        "        inputs = tokenizer(input_text, return_tensors=\"pt\", max_length=512, truncation=True).to(device)\n",
        "\n",
        "        with torch.no_grad():\n",
        "            outputs = model.generate(\n",
        "                **inputs,\n",
        "                max_length=128,\n",
        "                num_return_sequences=1,\n",
        "                do_sample=True,\n",
        "                top_k=50,\n",
        "                top_p=0.95,\n",
        "                temperature=0.7,\n",
        "                no_repeat_ngram_size=2\n",
        "            )\n",
        "\n",
        "        generated_question = tokenizer.decode(outputs[0], skip_special_tokens=True).strip()\n",
        "        if not generated_question:\n",
        "            generated_question = \"Aucune question générée.\"\n",
        "\n",
        "        questions.append((q_type, generated_question))\n",
        "\n",
        "    return questions"
      ],
      "metadata": {
        "id": "jolhBBT0gc-P"
      },
      "execution_count": null,
      "outputs": []
    },
    {
      "cell_type": "code",
      "source": [
        "# Exemple d'utilisation\n",
        "text = \"\"\"\n",
        "La pollution atmosphérique tue 5,5 millions de personnes par an dans le monde (dont 2,6 millions de décès indirects) selon des chiffres 2016 de la Banque mondiale: elle est devenue le quatrième facteur de décès prématuré sur Terre. Maladies cardiovasculaires, cancers des poumons, maladies pulmonaires chroniques, infections respiratoires... La pollution de l'air est coupable d'un décès sur dix dans le monde, six fois plus que le paludisme. La cause est l'Homme et son activité, par les industries, le trafic routier, les incinérateurs de déchets, le chauffage individuel et les centrales électriques aux combustibles fossiles. La pollution dans les villes provoque souvent un brouillard de polluants ou smog, souvent révélateurs de la densité de micro-particules et de l'impact du CO2 et autres polluants sur l'environnement.\n",
        "\"\"\"\n",
        "# Fonction pour générer des questions\n",
        "def generate_multiple_questions(text, model, tokenizer, device, question_types=['definition', 'factual', 'synthesis']):\n",
        "    questions = []\n",
        "\n",
        "    # Vérifier si le texte est vide\n",
        "    if not text.strip():\n",
        "        return [(q_type, \"Aucune question générée : texte vide.\") for q_type in question_types]\n",
        "\n",
        "    for q_type in question_types:\n",
        "        input_text = f\"<type:{q_type}> Contexte: {text}\"\n",
        "\n",
        "        inputs = tokenizer(input_text, return_tensors=\"pt\", max_length=512, truncation=True).to(device)\n",
        "\n",
        "        with torch.no_grad():\n",
        "            outputs = model.generate(\n",
        "                **inputs,\n",
        "                max_length=128,\n",
        "                num_return_sequences=1,\n",
        "                do_sample=True,\n",
        "                top_k=50,\n",
        "                top_p=0.95,\n",
        "                temperature=0.7,\n",
        "                no_repeat_ngram_size=2\n",
        "            )\n",
        "\n",
        "        generated_question = tokenizer.decode(outputs[0], skip_special_tokens=True).strip()\n",
        "        if not generated_question:\n",
        "            generated_question = \"Aucune question générée.\"\n",
        "\n",
        "        questions.append((q_type, generated_question))\n",
        "\n",
        "    return questions"
      ],
      "metadata": {
        "id": "hCaduP2ggfoi"
      },
      "execution_count": null,
      "outputs": []
    },
    {
      "cell_type": "code",
      "source": [
        "# Exemple d'utilisation\n",
        "text = \"\"\"\n",
        "La pollution atmosphérique tue 5,5 millions de personnes par an dans le monde (dont 2,6 millions de décès indirects) selon des chiffres 2016 de la Banque mondiale: elle est devenue le quatrième facteur de décès prématuré sur Terre. Maladies cardiovasculaires, cancers des poumons, maladies pulmonaires chroniques, infections respiratoires... La pollution de l'air est coupable d'un décès sur dix dans le monde, six fois plus que le paludisme. La cause est l'Homme et son activité, par les industries, le trafic routier, les incinérateurs de déchets, le chauffage individuel et les centrales électriques aux combustibles fossiles. La pollution dans les villes provoque souvent un brouillard de polluants ou smog, souvent révélateurs de la densité de micro-particules et de l'impact du CO2 et autres polluants sur l'environnement.\n",
        "\"\"\"\n",
        "\n",
        "# Génération des questions\n",
        "generated_questions = generate_multiple_questions(text, model, tokenizer, device)"
      ],
      "metadata": {
        "id": "MDvcdxxvgiXR"
      },
      "execution_count": null,
      "outputs": []
    },
    {
      "cell_type": "code",
      "source": [
        "# Affichage des questions générées\n",
        "for q_type, question in generated_questions:\n",
        "    print(f\"{q_type.capitalize()} question: {question}\")"
      ],
      "metadata": {
        "id": "nHPZfVfngmMG"
      },
      "execution_count": null,
      "outputs": []
    },
    {
      "cell_type": "code",
      "source": [
        "# Chargement des métriques BLEU, METEOR et ROUGE\n",
        "bleu = evaluate.load(\"bleu\")\n",
        "meteor = evaluate.load(\"meteor\")\n",
        "rouge = evaluate.load(\"rouge\")\n",
        "\n",
        "def compute_bleu(generated_questions, reference_questions):\n",
        "    formatted_references = [[ref] for ref in reference_questions]\n",
        "    results = bleu.compute(predictions=generated_questions, references=formatted_references)\n",
        "    return results[\"bleu\"]\n",
        "\n",
        "def compute_meteor(generated_questions, reference_questions):\n",
        "    formatted_references = [[ref] for ref in reference_questions]\n",
        "    results = meteor.compute(predictions=generated_questions, references=formatted_references)\n",
        "    return results[\"meteor\"]\n",
        "\n",
        "def compute_rouge(generated_questions, reference_questions):\n",
        "    formatted_references = [[ref] for ref in reference_questions]\n",
        "    results = rouge.compute(predictions=generated_questions, references=formatted_references)\n",
        "    return results[\"rougeL\"]\n",
        "\n",
        "# Exemple de références\n",
        "reference_questions = [\n",
        "    \"Quelles sont les conséquences de la pollution atmosphérique ?\",\n",
        "    \"Quel est l'impact du CO2 sur l'environnement ?\",\n",
        "    \"Pourquoi la pollution est-elle considérée comme un facteur de décès prématuré ?\"\n",
        "]\n",
        "\n",
        "# On extrait les questions générées\n",
        "generated_only = [question for _, question in generated_questions]\n",
        "\n",
        "# Calcul des scores BLEU, METEOR et ROUGE\n",
        "bleu_score = compute_bleu(generated_only, reference_questions)\n",
        "meteor_score = compute_meteor(generated_only, reference_questions)\n",
        "rouge_score = compute_rouge(generated_only, reference_questions)\n",
        "\n",
        "print(f\"BLEU Score : {bleu_score:.4f}\")\n",
        "print(f\"METEOR Score : {meteor_score:.4f}\")\n",
        "print(f\"ROUGE-L Score : {rouge_score:.4f}\")\n"
      ],
      "metadata": {
        "id": "KFWYcgJsgplh"
      },
      "execution_count": null,
      "outputs": []
    },
    {
      "cell_type": "markdown",
      "source": [
        "### Interprétation des résultats\n",
        "\n",
        "La métrique **BLEU** n'est pas la plus adaptée car le modèle ne génère pas exactement la meme question, ce qui n'est pa sun poitn négatif car il génère tout de même des questions pertinentes.\n",
        "\n",
        "La métrique **METEOR** détecte une certaine similarité car celle ci prend en compte les synonymes. Le modèle reformule pas mal les questions.\n",
        "\n",
        "La métrique **ROUGE** montre que les questions générées utilisent des mots très différents que les références avec un score très bas."
      ],
      "metadata": {
        "id": "Qhn3NLzvgxJl"
      }
    },
    {
      "cell_type": "markdown",
      "source": [
        "# **Interface**"
      ],
      "metadata": {
        "id": "JVeuz_weh6v7"
      }
    },
    {
      "cell_type": "markdown",
      "source": [
        "## Description du système"
      ],
      "metadata": {
        "id": "EZGMgh6nE2yQ"
      }
    },
    {
      "cell_type": "markdown",
      "source": [
        "L'interface repose sur du HTML et du CSS.\n",
        "Elle communique avec une API en FastAPI.\n",
        "\n",
        "index.hmtl : page principale de l'interface  \n",
        "style.css : style de la page\n",
        "\n",
        "Fonctionnalités principales :\n",
        "\n",
        "- Remplissage du texte à traiter par l'utilisateur\n",
        "- Choix du type de questions (définition, factuel, synthèse)\n",
        "- Le modèle génère les questions"
      ],
      "metadata": {
        "id": "xn_nUTXQFLdK"
      }
    },
    {
      "cell_type": "markdown",
      "source": [
        "L'interface contient :\n",
        "- un champ \"textarea\" où l'utilisateur peut coller le texte sur lequel il veut générer des questions\n",
        "- une liste de choix de type de questions\n",
        "  -  défintion,\n",
        "  - factuel,\n",
        "  - synthèse\n",
        "- un bouton de soumission \"générer\"\n",
        "- un espace d'affichage des questions générées"
      ],
      "metadata": {
        "id": "SrBezXLtHhhJ"
      }
    },
    {
      "cell_type": "markdown",
      "source": [
        "## Implémentation"
      ],
      "metadata": {
        "id": "nv83P4ZXIO6s"
      }
    },
    {
      "cell_type": "markdown",
      "source": [
        "Le fichier api.py contient :\n",
        "\n",
        "- L'initialisation de l'**API** avec **FastAPI**\n",
        "- La configuration de **CORS** pour permettre les requêtes du **frontend**\n",
        "- Le chargement du **modèle** et du **tokenizer** via Hugging Face\n",
        "- Une fonction de **découpage en phrases** pour améliorer la précision des questions générées\n",
        "- Une fonction de **génération de questions** en fonction des **types demandés**\n",
        "- Un **endpoint POST** qui prend un texte et renvoie des questions générées\n",
        "- Un **endpoint GET** pour tester si l’API est en ligne"
      ],
      "metadata": {
        "id": "GAXpZm73g82j"
      }
    },
    {
      "cell_type": "markdown",
      "source": [
        "Le fichier index.html contient :\n",
        "- La structure principale &lt;**body**&gt;\n",
        "- Un &lt;**textarea**&gt; pour entrer du texte\n",
        "- Un &lt;**input type=\"checkbox**\"&gt; pour sélectionner le type de questions\n",
        "- Un &lt;**button**&gt; pour envoyer la demande\n",
        "- Une &lt;**div**&gt; pour afficher le résultat\n"
      ],
      "metadata": {
        "id": "h26w-9raIR5r"
      }
    },
    {
      "cell_type": "markdown",
      "source": [
        "Le fichier style.css contient :  \n",
        "- **body** : style du contenu  \n",
        "- **.container** : cadre blanc centré\n",
        "- **textarea** : style de la zone de texte\n",
        "- **.checkbox-title** : mise en forme du titre des types de questions\n",
        "- **.checkbox** : cases à cocher\n",
        "- **button** : style du bouton \"générer\"\n",
        "- **.result** : cadre du résultat\n",
        "- **.question** : style des questions\n"
      ],
      "metadata": {
        "id": "8m_oesiEMptX"
      }
    },
    {
      "cell_type": "markdown",
      "source": [
        "## Résultats"
      ],
      "metadata": {
        "id": "_9RejvUbOxxF"
      }
    },
    {
      "cell_type": "markdown",
      "source": [
        "Lorsque l'utilisateur rentre un texte dans le champ de saisie, une fois avoir défini le type de questions qu'il souhaite, il peut appuyer sur le bouton \"générer\". Ansi les questions s'afficheront sous cette forme :\n",
        "![Description de l’image](image.png)\n",
        "\n"
      ],
      "metadata": {
        "id": "ciJhz9oRSIeX"
      }
    },
    {
      "cell_type": "markdown",
      "source": [
        "## Améliorations possibles"
      ],
      "metadata": {
        "id": "_w_AomxQWM_S"
      }
    },
    {
      "cell_type": "markdown",
      "source": [
        "Pour améliorer ce projet, nous aurions pu tout d'abord l'évaluer suite au finet-tuning. Nous aurions également pu, utiliser une méthode plus poussée telle que la similarité sémantique afin de voir si nos questions ont du sens. Nous aurions pu intégrer du JavaScript afin de rendre l’interface plus dynamique. Par exemple, l’ajout d’une barre de progression aurait permis d’indiquer visuellement que le modèle est en cours de chargement, afin d'offir un meilleur retour utilisateur, notamment lorsque le traitement prend du temps. Nous aurions également pu modifier certains paramètres afin d'augmenter la vitesse du modèle.\n",
        "\n",
        "Pour conclure nos résultats semblent globalement satisfaisants, le modèle fonctionne plutôt bien malgré quelles erreurs dans les questions générées avec des questions parfois inutiles."
      ],
      "metadata": {
        "id": "aqZrjWAnWVbj"
      }
    },
    {
      "cell_type": "markdown",
      "source": [
        "# Bibliographie\n",
        "\n",
        "Gerald T., Tamames L., Ettayeb S., Paroubek P., and Vilnat A.. 2024. CQuAE : Un nouveau corpus de question-réponse pour l’enseignement. In Actes de la 31ème Conférence sur le Traitement Automatique des Langues Naturelles, volume 1 : articles longs et prises de position, pages 50–63, Toulouse, France. ATALA and AFPC.\n",
        "\n",
        "Vaswani A., Shazeer N., Parmar N., Uszkoreit J., Jones L., Gomez A. N., Kaiser L. & Polosukhin I. 2017. Attention is all you need. In I. GUYON, U. VON LUXBURG, S. BENGIO, H. M. WALLACH, R. FERGUS, S. V. N. VISHWANATHAN & R. GARNETT, Éds., Advances in Neural Information Processing Systems 30 : Annual Conference on Neural Information Processing Systems 2017, December 4-9, 2017, Long Beach, CA, USA, p. 5998–6008.\n",
        "\n",
        " Licence dataset : Creative Commons Attribution-NonCommercial 4.0 International"
      ],
      "metadata": {
        "id": "0P4NNTYVY1U4"
      }
    }
  ]
}